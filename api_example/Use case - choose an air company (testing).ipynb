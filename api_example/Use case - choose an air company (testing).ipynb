{
 "cells": [
  {
   "cell_type": "markdown",
   "metadata": {},
   "source": [
    "# Use case: choose an airline company\n",
    "This notebook is an implementation of the use case *choose an airline company* that is calculated in the notebook `ref_case/Use_case_Choose_an_air_company.ipynb`."
   ]
  },
  {
   "cell_type": "code",
   "execution_count": 18,
   "metadata": {},
   "outputs": [],
   "source": [
    "# Auto-completion\n",
    "%config IPCompleter.greedy=True\n",
    "# Import IPython display\n",
    "from IPython.core.display import display, HTML\n",
    "# Importation of package yeahp\n",
    "import os\n",
    "import sys\n",
    "top_path = os.path.dirname(os.getcwd())\n",
    "sys.path.insert(0, top_path)\n",
    "import yeahp"
   ]
  },
  {
   "cell_type": "markdown",
   "metadata": {},
   "source": [
    "## Initialization of the AHP\n",
    "Specification of the hierarchical tree of criteria and list of alternatives."
   ]
  },
  {
   "cell_type": "code",
   "execution_count": 2,
   "metadata": {},
   "outputs": [],
   "source": [
    "from yeahp.ahp import Ahp\n",
    "\n",
    "goal = 'Choose an airline company'\n",
    "\n",
    "tree = {\n",
    "    'Service on board': {\n",
    "        'Snack': None,\n",
    "        'Crew members': None\n",
    "    },\n",
    "    'Reliability': None,\n",
    "    'Price': {\n",
    "        'Ticket': None,\n",
    "        'Additional services': None,\n",
    "        'Reduction with company\\'s partners': None\n",
    "    }\n",
    "}\n",
    "\n",
    "alternatives = ['Crazy air flight', 'OBIC air', 'National air']\n",
    "\n",
    "ahp_obj = Ahp(goal=goal, tree=tree, alternatives=alternatives)"
   ]
  },
  {
   "cell_type": "markdown",
   "metadata": {},
   "source": [
    "## Cross-comparison of criteria"
   ]
  },
  {
   "cell_type": "code",
   "execution_count": 4,
   "metadata": {},
   "outputs": [],
   "source": [
    "comparisons = {\n",
    "    'Choose an airline company': [\n",
    "        ['Service on board', 'Reliability', 1/9],\n",
    "        ['Service on board', 'Price', 1/7],\n",
    "        ['Reliability', 'Price', 3]\n",
    "    ],\n",
    "    'Service on board': [\n",
    "        ['Snack', 'Crew members', 1/3]\n",
    "    ],\n",
    "    'Price': [\n",
    "        ['Ticket', 'Additional services', 7],\n",
    "        ['Ticket', 'Reduction with company\\'s partners', 9],\n",
    "        ['Additional services', 'Reduction with company\\'s partners', 3]\n",
    "    ]\n",
    "}\n",
    "ahp_obj.hierarchical_compare(comparisons=comparisons)"
   ]
  },
  {
   "cell_type": "markdown",
   "metadata": {},
   "source": [
    "## Cross-comparisons of alternatives against covering criteria"
   ]
  },
  {
   "cell_type": "code",
   "execution_count": 5,
   "metadata": {
    "collapsed": true
   },
   "outputs": [],
   "source": [
    "comparisons = {\n",
    "    'Snack': [\n",
    "        ['Crazy air flight', 'OBIC air', 5],\n",
    "        ['Crazy air flight', 'National air', 1/3],\n",
    "        ['OBIC air', 'National air', 1/7]\n",
    "    ],\n",
    "    'Crew members': [\n",
    "        ['Crazy air flight', 'OBIC air', 3],\n",
    "        ['Crazy air flight', 'National air', 1],\n",
    "        ['OBIC air', 'National air', 1/3]\n",
    "    ],\n",
    "    'Reliability': [\n",
    "        ['Crazy air flight', 'OBIC air', 3],\n",
    "        ['Crazy air flight', 'National air', 1/2],\n",
    "        ['OBIC air', 'National air', 1/4]\n",
    "    ],\n",
    "    'Ticket': [\n",
    "        ['Crazy air flight', 'OBIC air', 1/3],\n",
    "        ['Crazy air flight', 'National air', 5],\n",
    "        ['OBIC air', 'National air', 7]\n",
    "    ],\n",
    "    'Additional services': [\n",
    "        ['Crazy air flight', 'OBIC air', 3],\n",
    "        ['Crazy air flight', 'National air', 1/7],\n",
    "        ['OBIC air', 'National air', 1/8]\n",
    "    ],\n",
    "    'Reduction with company\\'s partners': [\n",
    "        ['Crazy air flight', 'OBIC air', 2],\n",
    "        ['Crazy air flight', 'National air', 1],\n",
    "        ['OBIC air', 'National air', 1/2]\n",
    "    ]\n",
    "}\n",
    "ahp_obj.alternatives_compare(comparisons=comparisons)"
   ]
  },
  {
   "cell_type": "markdown",
   "metadata": {},
   "source": [
    "## Final ranking of alternatives against the main purpose"
   ]
  },
  {
   "cell_type": "code",
   "execution_count": 24,
   "metadata": {},
   "outputs": [
    {
     "data": {
      "text/html": [
       "<b>Crazy air flight<\b>: 30.86%"
      ],
      "text/plain": [
       "<IPython.core.display.HTML object>"
      ]
     },
     "metadata": {},
     "output_type": "display_data"
    },
    {
     "data": {
      "text/html": [
       "<b>National air<\b>: 45.0%"
      ],
      "text/plain": [
       "<IPython.core.display.HTML object>"
      ]
     },
     "metadata": {},
     "output_type": "display_data"
    },
    {
     "data": {
      "text/html": [
       "<b>OBIC air<\b>: 24.14%"
      ],
      "text/plain": [
       "<IPython.core.display.HTML object>"
      ]
     },
     "metadata": {},
     "output_type": "display_data"
    }
   ],
   "source": [
    "ranking = ahp_obj.goal_properties\n",
    "for comp, prio in ranking.items():\n",
    "    display(HTML('<b>{company}<\\b>: {ranking}%'.format(company=comp, ranking=round(prio*100, 2))))"
   ]
  },
  {
   "cell_type": "code",
   "execution_count": null,
   "metadata": {
    "collapsed": true
   },
   "outputs": [],
   "source": []
  }
 ],
 "metadata": {
  "kernelspec": {
   "display_name": "Python [default]",
   "language": "python",
   "name": "python3"
  },
  "language_info": {
   "codemirror_mode": {
    "name": "ipython",
    "version": 3
   },
   "file_extension": ".py",
   "mimetype": "text/x-python",
   "name": "python",
   "nbconvert_exporter": "python",
   "pygments_lexer": "ipython3",
   "version": "3.5.3"
  }
 },
 "nbformat": 4,
 "nbformat_minor": 2
}
