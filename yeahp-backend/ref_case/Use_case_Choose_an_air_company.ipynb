{
 "cells": [
  {
   "cell_type": "markdown",
   "metadata": {},
   "source": [
    "# Use case: choose an airplane company\n",
    "This use case applies the *analytic hierarchy process* (AHP) to choose between three airline companies **Crazy price flight**, **Oh boy it's cheap air** (OBIC air) and the **National air** for making national flights. The three candidates or *alternatives* are thus:\n",
    "\n",
    "* *crazy air flight*\n",
    "* *OBIC air*\n",
    "* *National air*\n",
    "\n",
    "The hierarchy of criteria is described below:\n",
    "![Hierarchy_of_criteria](hierarchy_criteria.png)\n",
    "\n",
    "The **covering criteria** are:\n",
    "\n",
    "* Snack service\n",
    "* Crew members\n",
    "* Reliability\n",
    "* Ticket price\n",
    "* Price for additional services\n",
    "* Price advantage with the company's partners\n",
    "\n",
    "## General methodology\n",
    "\n",
    "The first step of the AHP is to is carry out cross-comparison of the top-level criteria and their sub-criteria against the main objective. The comparison is carried out with the *fundamental scale of absolute numbers* given hereafter. The result of a comparison is measured with the *intensity of importance* based on the series of *odd integers* from 1 to 9. Even integers could be used for introducing a more refined assessment. However, restricting to the *odd integer* scale should be suitable in most cases. A comparison is stated as:\n",
    "\n",
    "<p style=\"text-align: center;\"> Intensity(A,B) = *Element A* compared to *Element B* </p>\n",
    "\n",
    "The **reciprocal comparison** is scored with the inverse value of intensity:\n",
    "\n",
    "<p style=\"text-align: center;\"> Intensity(B,A) = 1/Intensity(A,B) </p>\n",
    "\n",
    "---\n",
    "\n",
    "<p style=\"text-align: center; font-weight: bold; text-decoration: underline\"> Fundamental scale of absolute numbers </p>\n",
    "\n",
    "|Intensity of importance|Definition                |Explanation                                                  |\n",
    "|-----------------------|--------------------------|-------------------------------------------------------------|\n",
    "|1                      |Equal importance          |The two compared elements **contribute equally** to the      |\n",
    "|                       |                          |objective                                                    |\n",
    "|3                      |Moderate importance       |Experience and judgment slightly favor *Element A* over      |\n",
    "|                       |                          |*Element B*                                                  |\n",
    "|5                      |Strong importance         |Experience and judgment strongly favor *Element A* over      |\n",
    "|                       |                          |*Element B*                                                  |\n",
    "|7                      |Very strong or demons-    |*Element A* is favored very strongly over *Element B*; its   |\n",
    "|                       |trated importance         |dominance is demonstrated in practice                        |\n",
    "|9                      |Extremely strong          |The evidence favouring *Element A* over *Element B* is of the|\n",
    "|                       |importance                |**highest possible** order of affirmation                    |\n",
    "\n",
    "---\n",
    "\n",
    "When considering a cross-comparison of $n$ criteria, the number of independant comparisons to carry out is:\n",
    "\n",
    "$${n \\choose 2} = {n! \\over (n-2)!2!} = {n(n-1) \\over 2}$$\n",
    "\n",
    "Dependant comparisons are either the comparison of an element with itself which always evaluates to 1. and reciprocal comparisons which values are inverse.\n",
    "\n",
    "The whole set of cross-comparisons constitutes the **comparison matrix** (or *judgment matrix*) which component inversion property by transposition makes them elements of the set of **reciprocal matrices**.\n",
    "\n",
    "<p style=\"font-weight: bold; text-decoration: underline;\">Consistency</p> \n",
    "The *independance* of comparisons is not related to the notion of consistency. Giving a value to a comparison between elements $X$ and $Y$ and another one for the comparison between elements $Y$ and $Z$ is equivalent to state that:\n",
    "\n",
    "<p style=\"text-align: center;\"> $X=\\alpha Y$ and $Y=\\beta Z$ </p>\n",
    "\n",
    "which implies that $X=\\alpha\\beta Z$. Consequently, the two comparisons are **inconsistent** if ${X\\over Z}$ is significantly different from $\\alpha\\beta$.\n",
    "\n",
    "<p style=\"font-weight: bold; text-decoration: underline;\">Priorities</p>\n",
    "When a cross-comparison has been carried out, *absolute priorites* can be calculated from the comparison matrix. These values are absolute because they are normalized so that their sum is equal to 1.\n",
    "\n",
    "<p style=\"font-weight: bold; text-decoration: underline;\">Hierarchy and covering criteria</p>\n",
    "The priorities of all criteria are hierarchically weighted by the priority of their parent criterion. The *covering criteria* are the criteria at the leaves of the hierarchical tree:\n",
    "\n",
    "* Snack onboard\n",
    "* Crew members' service onboard\n",
    "* Reliability of the flights' schedule\n",
    "* Ticket price\n",
    "* Price of additional services\n",
    "* Discounts with the company's partners\n",
    "\n",
    "Because of the hierarchical weighting their sum equals to 1.\n",
    "\n",
    "<p style=\"font-weight: bold; text-decoration: underline;\">Cross-comparison of alternatives</p>\n",
    "The alternatives (considered solutions) are cross-compared against every *covering criterion*. The normalization of priorities implies that the sum of priorities of alternatives over covering criteria is 1.\n",
    "\n",
    "<p style=\"font-weight: bold; text-decoration: underline;\">Conclusion</p>\n",
    "The priority of an alternative against the objective is calculated as the sum of its priorities over covering criteria."
   ]
  },
  {
   "cell_type": "code",
   "execution_count": 1,
   "metadata": {
    "collapsed": true
   },
   "outputs": [],
   "source": [
    "import pandas as pd\n",
    "import numpy as np\n",
    "from IPython.display import display\n",
    "\n",
    "def priorities(df):\n",
    "    eig_val, eig_vect = np.linalg.eig(df.as_matrix())\n",
    "    eig_max_ind = eig_val.argmax()\n",
    "    priorities = eig_vect[:,eig_max_ind]\n",
    "    # There is no imaginary part, it is mainly a type conversion\n",
    "    return np.real(priorities / priorities.sum())\n",
    "\n",
    "def inconsistency(df):\n",
    "    eig_val, eig_vect = np.linalg.eig(df.as_matrix())\n",
    "    n = df.shape[0]\n",
    "    # consistency index\n",
    "    ind_max = eig_val.argmax()\n",
    "    index = (np.real(eig_val[ind_max]) - n) / (n - 1)\n",
    "    # priority vector\n",
    "    w = eig_vect[:,ind_max]\n",
    "    w = np.real(w / w.sum())\n",
    "    D = np.diag(w)\n",
    "    E = np.dot(np.linalg.solve(D,df), D)\n",
    "    return index, E\n",
    "\n",
    "normalized_priorities = dict()\n",
    "def update_norm_priorities(w_df):\n",
    "    cnames = w_df.index.tolist()\n",
    "    values = w_df.as_matrix()[:,0].tolist()\n",
    "    normalized_priorities.update(dict([pair for pair in zip(cnames,values)]))\n",
    "    \n",
    "alternative_priorities = pd.DataFrame(np.zeros((3,)), index = ['Crazy price fl.', 'OBIC', 'National air'], \n",
    "                                      columns = ('priorities',))"
   ]
  },
  {
   "cell_type": "markdown",
   "metadata": {},
   "source": [
    "## Cross-comparison of top level criteria\n",
    "\n",
    "The 3 criteria to compare are:\n",
    "\n",
    "* Service on board: quality of services onboard\n",
    "* Reliability: flight delays or cancellation, lost bagages\n",
    "* Price\n",
    "\n",
    "A cross-comparison of 3 criteria involves 3 independant comparisons. Here is my *personal opinion*:\n",
    "\n",
    "* *Reliability* has an *extreme importance* over *Service on board*\n",
    "* *Prices* have a *very strong importance* over *Service on board*\n",
    "* *Reliability* has a *slight importance* over *Prices*\n",
    "\n",
    "These comparisons are assessed with **fundamental scale of absolute numbers**. The comparison matrix below is established from these values. The values must be read as: row-label compares to column-label:"
   ]
  },
  {
   "cell_type": "code",
   "execution_count": 2,
   "metadata": {},
   "outputs": [
    {
     "data": {
      "text/html": [
       "<div>\n",
       "<style>\n",
       "    .dataframe thead tr:only-child th {\n",
       "        text-align: right;\n",
       "    }\n",
       "\n",
       "    .dataframe thead th {\n",
       "        text-align: left;\n",
       "    }\n",
       "\n",
       "    .dataframe tbody tr th {\n",
       "        vertical-align: top;\n",
       "    }\n",
       "</style>\n",
       "<table border=\"1\" class=\"dataframe\">\n",
       "  <thead>\n",
       "    <tr style=\"text-align: right;\">\n",
       "      <th></th>\n",
       "      <th>Service</th>\n",
       "      <th>Reliability</th>\n",
       "      <th>Price</th>\n",
       "    </tr>\n",
       "  </thead>\n",
       "  <tbody>\n",
       "    <tr>\n",
       "      <th>Service</th>\n",
       "      <td>1.0</td>\n",
       "      <td>0.111111</td>\n",
       "      <td>0.142857</td>\n",
       "    </tr>\n",
       "    <tr>\n",
       "      <th>Reliability</th>\n",
       "      <td>9.0</td>\n",
       "      <td>1.000000</td>\n",
       "      <td>3.000000</td>\n",
       "    </tr>\n",
       "    <tr>\n",
       "      <th>Price</th>\n",
       "      <td>7.0</td>\n",
       "      <td>0.333333</td>\n",
       "      <td>1.000000</td>\n",
       "    </tr>\n",
       "  </tbody>\n",
       "</table>\n",
       "</div>"
      ],
      "text/plain": [
       "             Service  Reliability     Price\n",
       "Service          1.0     0.111111  0.142857\n",
       "Reliability      9.0     1.000000  3.000000\n",
       "Price            7.0     0.333333  1.000000"
      ]
     },
     "metadata": {},
     "output_type": "display_data"
    }
   ],
   "source": [
    "labels = ['Service', 'Reliability', 'Price']\n",
    "comp_mat = np.array([[1,1/9,1/7],[9,1,3],[7,1/3,1]])\n",
    "comp_df = pd.DataFrame(comp_mat, index = labels, columns=labels)\n",
    "display(comp_df)"
   ]
  },
  {
   "cell_type": "markdown",
   "metadata": {},
   "source": [
    "Now, let's check the *consistency* of this set of cross-comparisons:"
   ]
  },
  {
   "cell_type": "code",
   "execution_count": 3,
   "metadata": {},
   "outputs": [
    {
     "name": "stdout",
     "output_type": "stream",
     "text": [
      "The consistency index is: 0.0401499218806 \n",
      "\n",
      "The consistency deviation matrix:\n",
      "[[ 0.          0.3263524  -0.24605256]\n",
      " [-0.24605256  0.          0.3263524 ]\n",
      " [ 0.3263524  -0.24605256  0.        ]] \n",
      "\n"
     ]
    }
   ],
   "source": [
    "ind, mat_E = inconsistency(comp_df)\n",
    "print('The consistency index is:',ind,'\\n')\n",
    "print('The consistency deviation matrix:')\n",
    "print(mat_E-1,'\\n')"
   ]
  },
  {
   "cell_type": "markdown",
   "metadata": {},
   "source": [
    "The statistically maximal admissible *consistency index* is 0.10 which is significantly higher than 0.040.\n",
    "\n",
    "Eventually the **normalized priorities** are:"
   ]
  },
  {
   "cell_type": "code",
   "execution_count": 4,
   "metadata": {},
   "outputs": [
    {
     "data": {
      "text/html": [
       "<div>\n",
       "<style>\n",
       "    .dataframe thead tr:only-child th {\n",
       "        text-align: right;\n",
       "    }\n",
       "\n",
       "    .dataframe thead th {\n",
       "        text-align: left;\n",
       "    }\n",
       "\n",
       "    .dataframe tbody tr th {\n",
       "        vertical-align: top;\n",
       "    }\n",
       "</style>\n",
       "<table border=\"1\" class=\"dataframe\">\n",
       "  <thead>\n",
       "    <tr style=\"text-align: right;\">\n",
       "      <th></th>\n",
       "      <th>priorities</th>\n",
       "    </tr>\n",
       "  </thead>\n",
       "  <tbody>\n",
       "    <tr>\n",
       "      <th>Service</th>\n",
       "      <td>0.055</td>\n",
       "    </tr>\n",
       "    <tr>\n",
       "      <th>Reliability</th>\n",
       "      <td>0.655</td>\n",
       "    </tr>\n",
       "    <tr>\n",
       "      <th>Price</th>\n",
       "      <td>0.290</td>\n",
       "    </tr>\n",
       "  </tbody>\n",
       "</table>\n",
       "</div>"
      ],
      "text/plain": [
       "             priorities\n",
       "Service           0.055\n",
       "Reliability       0.655\n",
       "Price             0.290"
      ]
     },
     "metadata": {},
     "output_type": "display_data"
    }
   ],
   "source": [
    "w=pd.DataFrame(priorities(comp_df), index = labels, columns = ('priorities',))\n",
    "display(w.round(3))\n",
    "update_norm_priorities(w)"
   ]
  },
  {
   "cell_type": "markdown",
   "metadata": {
    "collapsed": true
   },
   "source": [
    "## Comparison of level-2 sub-criteria of *Service onboard*\n",
    "There are 2 criteria to compare:\n",
    "\n",
    "* Snack service\n",
    "* Crew members: are they kind? Reactive?\n",
    "\n",
    "A cross-comparison of 2 criteria involves only 1 independant comparison. Here is my personal opinion:\n",
    "\n",
    "* The behavior of crew members is slightly more important than the snack service onboard"
   ]
  },
  {
   "cell_type": "code",
   "execution_count": 5,
   "metadata": {},
   "outputs": [
    {
     "data": {
      "text/html": [
       "<div>\n",
       "<style>\n",
       "    .dataframe thead tr:only-child th {\n",
       "        text-align: right;\n",
       "    }\n",
       "\n",
       "    .dataframe thead th {\n",
       "        text-align: left;\n",
       "    }\n",
       "\n",
       "    .dataframe tbody tr th {\n",
       "        vertical-align: top;\n",
       "    }\n",
       "</style>\n",
       "<table border=\"1\" class=\"dataframe\">\n",
       "  <thead>\n",
       "    <tr style=\"text-align: right;\">\n",
       "      <th></th>\n",
       "      <th>Snack</th>\n",
       "      <th>Crew members</th>\n",
       "    </tr>\n",
       "  </thead>\n",
       "  <tbody>\n",
       "    <tr>\n",
       "      <th>Snack</th>\n",
       "      <td>1.0</td>\n",
       "      <td>0.333333</td>\n",
       "    </tr>\n",
       "    <tr>\n",
       "      <th>Crew members</th>\n",
       "      <td>3.0</td>\n",
       "      <td>1.000000</td>\n",
       "    </tr>\n",
       "  </tbody>\n",
       "</table>\n",
       "</div>"
      ],
      "text/plain": [
       "              Snack  Crew members\n",
       "Snack           1.0      0.333333\n",
       "Crew members    3.0      1.000000"
      ]
     },
     "metadata": {},
     "output_type": "display_data"
    },
    {
     "name": "stdout",
     "output_type": "stream",
     "text": [
      "The consistency index is: 0.0 \n",
      "\n",
      "The consistency deviation matrix:\n",
      "[[ 0.  0.]\n",
      " [ 0.  0.]]\n"
     ]
    }
   ],
   "source": [
    "labels = ['Snack', 'Crew members']\n",
    "comp_mat = np.array([[1.,1/3],[3,1]])\n",
    "comp_df = pd.DataFrame(comp_mat, index = labels, columns=labels)\n",
    "display(comp_df)\n",
    "ind, mat_E = inconsistency(comp_df)\n",
    "print('The consistency index is:',ind,'\\n')\n",
    "print('The consistency deviation matrix:')\n",
    "print(mat_E-1)"
   ]
  },
  {
   "cell_type": "markdown",
   "metadata": {},
   "source": [
    "A 2x2 comparison matrix is necessarily consistent. The normalized priorities are:"
   ]
  },
  {
   "cell_type": "code",
   "execution_count": 6,
   "metadata": {
    "scrolled": true
   },
   "outputs": [
    {
     "data": {
      "text/html": [
       "<div>\n",
       "<style>\n",
       "    .dataframe thead tr:only-child th {\n",
       "        text-align: right;\n",
       "    }\n",
       "\n",
       "    .dataframe thead th {\n",
       "        text-align: left;\n",
       "    }\n",
       "\n",
       "    .dataframe tbody tr th {\n",
       "        vertical-align: top;\n",
       "    }\n",
       "</style>\n",
       "<table border=\"1\" class=\"dataframe\">\n",
       "  <thead>\n",
       "    <tr style=\"text-align: right;\">\n",
       "      <th></th>\n",
       "      <th>priorities</th>\n",
       "    </tr>\n",
       "  </thead>\n",
       "  <tbody>\n",
       "    <tr>\n",
       "      <th>Snack</th>\n",
       "      <td>0.25</td>\n",
       "    </tr>\n",
       "    <tr>\n",
       "      <th>Crew members</th>\n",
       "      <td>0.75</td>\n",
       "    </tr>\n",
       "  </tbody>\n",
       "</table>\n",
       "</div>"
      ],
      "text/plain": [
       "              priorities\n",
       "Snack               0.25\n",
       "Crew members        0.75"
      ]
     },
     "metadata": {},
     "output_type": "display_data"
    }
   ],
   "source": [
    "w=pd.DataFrame(priorities(comp_df), index = labels, columns = ('priorities',))\n",
    "display(w.round(3))\n",
    "update_norm_priorities(w)"
   ]
  },
  {
   "cell_type": "markdown",
   "metadata": {},
   "source": [
    "## Comparison of level-2 sub-criteria of *Prices*\n",
    "There are 2 criteria to compare:\n",
    "\n",
    "* Ticket prices\n",
    "* Additional services: additional checked luggages, sport equipement and special luggages\n",
    "* Reductions with the company's partners: car rental, hotel reservation\n",
    "\n",
    "A cross-comparison of 3 criteria involves 3 independant comparisons. Here is my personal opinion:\n",
    "\n",
    "* Ticket price has a very strong importance compared to the price of additional services\n",
    "* Ticket price has an extreme importance compared to reductions with the company's partners\n",
    "* The price of additional services is slightly more important than reductions with the company's partners"
   ]
  },
  {
   "cell_type": "code",
   "execution_count": 7,
   "metadata": {},
   "outputs": [
    {
     "data": {
      "text/html": [
       "<div>\n",
       "<style>\n",
       "    .dataframe thead tr:only-child th {\n",
       "        text-align: right;\n",
       "    }\n",
       "\n",
       "    .dataframe thead th {\n",
       "        text-align: left;\n",
       "    }\n",
       "\n",
       "    .dataframe tbody tr th {\n",
       "        vertical-align: top;\n",
       "    }\n",
       "</style>\n",
       "<table border=\"1\" class=\"dataframe\">\n",
       "  <thead>\n",
       "    <tr style=\"text-align: right;\">\n",
       "      <th></th>\n",
       "      <th>Ticket</th>\n",
       "      <th>Add. services</th>\n",
       "      <th>Reductions</th>\n",
       "    </tr>\n",
       "  </thead>\n",
       "  <tbody>\n",
       "    <tr>\n",
       "      <th>Ticket</th>\n",
       "      <td>1.000000</td>\n",
       "      <td>7.000000</td>\n",
       "      <td>9.0</td>\n",
       "    </tr>\n",
       "    <tr>\n",
       "      <th>Add. services</th>\n",
       "      <td>0.142857</td>\n",
       "      <td>1.000000</td>\n",
       "      <td>3.0</td>\n",
       "    </tr>\n",
       "    <tr>\n",
       "      <th>Reductions</th>\n",
       "      <td>0.111111</td>\n",
       "      <td>0.333333</td>\n",
       "      <td>1.0</td>\n",
       "    </tr>\n",
       "  </tbody>\n",
       "</table>\n",
       "</div>"
      ],
      "text/plain": [
       "                 Ticket  Add. services  Reductions\n",
       "Ticket         1.000000       7.000000         9.0\n",
       "Add. services  0.142857       1.000000         3.0\n",
       "Reductions     0.111111       0.333333         1.0"
      ]
     },
     "metadata": {},
     "output_type": "display_data"
    },
    {
     "name": "stdout",
     "output_type": "stream",
     "text": [
      "The consistency index is: 0.0401499218806 \n",
      "\n",
      "The consistency deviation matrix:\n",
      "[[ 0.          0.3263524  -0.24605256]\n",
      " [-0.24605256  0.          0.3263524 ]\n",
      " [ 0.3263524  -0.24605256  0.        ]] \n",
      "\n"
     ]
    }
   ],
   "source": [
    "labels = ['Ticket', 'Add. services', 'Reductions']\n",
    "comp_mat = np.array([[1,7,9],[1/7,1,3],[1/9,1/3,1]])\n",
    "comp_df = pd.DataFrame(comp_mat, index = labels, columns=labels)\n",
    "display(comp_df)\n",
    "ind, mat_E = inconsistency(comp_df)\n",
    "print('The consistency index is:',ind,'\\n')\n",
    "print('The consistency deviation matrix:')\n",
    "print(mat_E-1,'\\n')"
   ]
  },
  {
   "cell_type": "markdown",
   "metadata": {},
   "source": [
    "The statistically maximal admissible consistency index is 0.10 which is significantly higher than 0.040.\n",
    "\n",
    "The normalized priorities are:"
   ]
  },
  {
   "cell_type": "code",
   "execution_count": 8,
   "metadata": {
    "scrolled": true
   },
   "outputs": [
    {
     "data": {
      "text/html": [
       "<div>\n",
       "<style>\n",
       "    .dataframe thead tr:only-child th {\n",
       "        text-align: right;\n",
       "    }\n",
       "\n",
       "    .dataframe thead th {\n",
       "        text-align: left;\n",
       "    }\n",
       "\n",
       "    .dataframe tbody tr th {\n",
       "        vertical-align: top;\n",
       "    }\n",
       "</style>\n",
       "<table border=\"1\" class=\"dataframe\">\n",
       "  <thead>\n",
       "    <tr style=\"text-align: right;\">\n",
       "      <th></th>\n",
       "      <th>priorities</th>\n",
       "    </tr>\n",
       "  </thead>\n",
       "  <tbody>\n",
       "    <tr>\n",
       "      <th>Ticket</th>\n",
       "      <td>0.785</td>\n",
       "    </tr>\n",
       "    <tr>\n",
       "      <th>Add. services</th>\n",
       "      <td>0.149</td>\n",
       "    </tr>\n",
       "    <tr>\n",
       "      <th>Reductions</th>\n",
       "      <td>0.066</td>\n",
       "    </tr>\n",
       "  </tbody>\n",
       "</table>\n",
       "</div>"
      ],
      "text/plain": [
       "               priorities\n",
       "Ticket              0.785\n",
       "Add. services       0.149\n",
       "Reductions          0.066"
      ]
     },
     "metadata": {},
     "output_type": "display_data"
    }
   ],
   "source": [
    "w=pd.DataFrame(priorities(comp_df), index = labels, columns = ('priorities',))\n",
    "display(w.round(3))\n",
    "update_norm_priorities(w)"
   ]
  },
  {
   "cell_type": "markdown",
   "metadata": {},
   "source": [
    "## Weighting of criteria\n",
    "Here are the priorities of criteria before they are normalized."
   ]
  },
  {
   "cell_type": "code",
   "execution_count": 9,
   "metadata": {},
   "outputs": [
    {
     "data": {
      "text/plain": [
       "{'Add. services': 0.14881506992909246,\n",
       " 'Crew members': 0.75,\n",
       " 'Price': 0.2897441098717415,\n",
       " 'Reductions': 0.0657937418494401,\n",
       " 'Reliability': 0.6553554906601311,\n",
       " 'Service': 0.054900399468127435,\n",
       " 'Snack': 0.25,\n",
       " 'Ticket': 0.7853911882214674}"
      ]
     },
     "metadata": {},
     "output_type": "display_data"
    }
   ],
   "source": [
    "display(normalized_priorities)"
   ]
  },
  {
   "cell_type": "markdown",
   "metadata": {},
   "source": [
    "Now, let weight the priorities hierarchically:"
   ]
  },
  {
   "cell_type": "code",
   "execution_count": 10,
   "metadata": {},
   "outputs": [
    {
     "data": {
      "text/plain": [
       "{'Add. services': 0.04311828997210586,\n",
       " 'Crew members': 0.041175299601095575,\n",
       " 'Price': 0.2897441098717415,\n",
       " 'Reductions': 0.01906334916729717,\n",
       " 'Reliability': 0.6553554906601311,\n",
       " 'Service': 0.054900399468127435,\n",
       " 'Snack': 0.013725099867031859,\n",
       " 'Ticket': 0.22756247073233843}"
      ]
     },
     "metadata": {},
     "output_type": "display_data"
    }
   ],
   "source": [
    "for k in ('Crew members','Snack'):\n",
    "    normalized_priorities[k] *= normalized_priorities['Service']\n",
    "for k in ('Ticket','Add. services','Reductions'):\n",
    "    normalized_priorities[k] *= normalized_priorities['Price']\n",
    "display(normalized_priorities)"
   ]
  },
  {
   "cell_type": "markdown",
   "metadata": {},
   "source": [
    "The covering criteria are listed below. Their weighted priorities must sum to 1.\n",
    "\n",
    "* Snack onboard\n",
    "* Crew members' service onboard\n",
    "* Reliability of the flights' schedule\n",
    "* Ticket price\n",
    "* Price of additional services\n",
    "* Discounts with the company's partners\n"
   ]
  },
  {
   "cell_type": "code",
   "execution_count": 11,
   "metadata": {},
   "outputs": [
    {
     "name": "stdout",
     "output_type": "stream",
     "text": [
      "Sum of priorities of covering criteria:\n",
      "1.0\n"
     ]
    }
   ],
   "source": [
    "covering_criteria = ('Crew members','Snack','Reliability','Ticket','Add. services','Reductions')\n",
    "print('Sum of priorities of covering criteria:')\n",
    "print(np.array([normalized_priorities[cov] for cov in covering_criteria]).sum())"
   ]
  },
  {
   "cell_type": "markdown",
   "metadata": {},
   "source": [
    "## Cross-comparison of alternatives against covering criteria\n",
    "\n",
    "### Alternatives against *Snack onboard*"
   ]
  },
  {
   "cell_type": "code",
   "execution_count": 12,
   "metadata": {},
   "outputs": [
    {
     "data": {
      "text/html": [
       "<div>\n",
       "<style>\n",
       "    .dataframe thead tr:only-child th {\n",
       "        text-align: right;\n",
       "    }\n",
       "\n",
       "    .dataframe thead th {\n",
       "        text-align: left;\n",
       "    }\n",
       "\n",
       "    .dataframe tbody tr th {\n",
       "        vertical-align: top;\n",
       "    }\n",
       "</style>\n",
       "<table border=\"1\" class=\"dataframe\">\n",
       "  <thead>\n",
       "    <tr style=\"text-align: right;\">\n",
       "      <th></th>\n",
       "      <th>Crazy price fl.</th>\n",
       "      <th>OBIC</th>\n",
       "      <th>National air</th>\n",
       "    </tr>\n",
       "  </thead>\n",
       "  <tbody>\n",
       "    <tr>\n",
       "      <th>Crazy price fl.</th>\n",
       "      <td>1.0</td>\n",
       "      <td>5.0</td>\n",
       "      <td>0.333333</td>\n",
       "    </tr>\n",
       "    <tr>\n",
       "      <th>OBIC</th>\n",
       "      <td>0.2</td>\n",
       "      <td>1.0</td>\n",
       "      <td>0.142857</td>\n",
       "    </tr>\n",
       "    <tr>\n",
       "      <th>National air</th>\n",
       "      <td>3.0</td>\n",
       "      <td>7.0</td>\n",
       "      <td>1.000000</td>\n",
       "    </tr>\n",
       "  </tbody>\n",
       "</table>\n",
       "</div>"
      ],
      "text/plain": [
       "                 Crazy price fl.  OBIC  National air\n",
       "Crazy price fl.              1.0   5.0      0.333333\n",
       "OBIC                         0.2   1.0      0.142857\n",
       "National air                 3.0   7.0      1.000000"
      ]
     },
     "metadata": {},
     "output_type": "display_data"
    },
    {
     "name": "stdout",
     "output_type": "stream",
     "text": [
      "The consistency index is: 0.0324437899364 \n",
      "\n",
      "The consistency deviation matrix:\n",
      "[[ 0.          0.28923199 -0.22434441]\n",
      " [-0.22434441  0.          0.28923199]\n",
      " [ 0.28923199 -0.22434441  0.        ]]\n"
     ]
    }
   ],
   "source": [
    "labels = ['Crazy price fl.', 'OBIC', 'National air']\n",
    "comp_mat = np.array([[1,5,1/3],[1/5,1,1/7],[3,7,1]])\n",
    "comp_df = pd.DataFrame(comp_mat, index = labels, columns=labels)\n",
    "display(comp_df)\n",
    "ind, mat_E = inconsistency(comp_df)\n",
    "print('The consistency index is:',ind,'\\n')\n",
    "print('The consistency deviation matrix:')\n",
    "print(mat_E-1)"
   ]
  },
  {
   "cell_type": "markdown",
   "metadata": {},
   "source": [
    "The statistically maximal admissible consistency index is 0.10 which is significantly higher than 0.032.\n",
    "\n",
    "The normalized priorities are:"
   ]
  },
  {
   "cell_type": "code",
   "execution_count": 13,
   "metadata": {
    "scrolled": true
   },
   "outputs": [
    {
     "data": {
      "text/html": [
       "<div>\n",
       "<style>\n",
       "    .dataframe thead tr:only-child th {\n",
       "        text-align: right;\n",
       "    }\n",
       "\n",
       "    .dataframe thead th {\n",
       "        text-align: left;\n",
       "    }\n",
       "\n",
       "    .dataframe tbody tr th {\n",
       "        vertical-align: top;\n",
       "    }\n",
       "</style>\n",
       "<table border=\"1\" class=\"dataframe\">\n",
       "  <thead>\n",
       "    <tr style=\"text-align: right;\">\n",
       "      <th></th>\n",
       "      <th>priorities</th>\n",
       "    </tr>\n",
       "  </thead>\n",
       "  <tbody>\n",
       "    <tr>\n",
       "      <th>Crazy price fl.</th>\n",
       "      <td>0.279</td>\n",
       "    </tr>\n",
       "    <tr>\n",
       "      <th>OBIC</th>\n",
       "      <td>0.072</td>\n",
       "    </tr>\n",
       "    <tr>\n",
       "      <th>National air</th>\n",
       "      <td>0.649</td>\n",
       "    </tr>\n",
       "  </tbody>\n",
       "</table>\n",
       "</div>"
      ],
      "text/plain": [
       "                 priorities\n",
       "Crazy price fl.       0.279\n",
       "OBIC                  0.072\n",
       "National air          0.649"
      ]
     },
     "metadata": {},
     "output_type": "display_data"
    }
   ],
   "source": [
    "alt_w = pd.DataFrame(priorities(comp_df), index = labels, columns = ('priorities',))\n",
    "display(alt_w.round(3))\n",
    "alternative_priorities += alt_w * normalized_priorities['Snack']"
   ]
  },
  {
   "cell_type": "markdown",
   "metadata": {},
   "source": [
    "### Alternatives against *Crew members*"
   ]
  },
  {
   "cell_type": "code",
   "execution_count": 14,
   "metadata": {},
   "outputs": [
    {
     "data": {
      "text/html": [
       "<div>\n",
       "<style>\n",
       "    .dataframe thead tr:only-child th {\n",
       "        text-align: right;\n",
       "    }\n",
       "\n",
       "    .dataframe thead th {\n",
       "        text-align: left;\n",
       "    }\n",
       "\n",
       "    .dataframe tbody tr th {\n",
       "        vertical-align: top;\n",
       "    }\n",
       "</style>\n",
       "<table border=\"1\" class=\"dataframe\">\n",
       "  <thead>\n",
       "    <tr style=\"text-align: right;\">\n",
       "      <th></th>\n",
       "      <th>Crazy price fl.</th>\n",
       "      <th>OBIC</th>\n",
       "      <th>National air</th>\n",
       "    </tr>\n",
       "  </thead>\n",
       "  <tbody>\n",
       "    <tr>\n",
       "      <th>Crazy price fl.</th>\n",
       "      <td>1.000000</td>\n",
       "      <td>3.0</td>\n",
       "      <td>1.000000</td>\n",
       "    </tr>\n",
       "    <tr>\n",
       "      <th>OBIC</th>\n",
       "      <td>0.333333</td>\n",
       "      <td>1.0</td>\n",
       "      <td>0.333333</td>\n",
       "    </tr>\n",
       "    <tr>\n",
       "      <th>National air</th>\n",
       "      <td>1.000000</td>\n",
       "      <td>3.0</td>\n",
       "      <td>1.000000</td>\n",
       "    </tr>\n",
       "  </tbody>\n",
       "</table>\n",
       "</div>"
      ],
      "text/plain": [
       "                 Crazy price fl.  OBIC  National air\n",
       "Crazy price fl.         1.000000   3.0      1.000000\n",
       "OBIC                    0.333333   1.0      0.333333\n",
       "National air            1.000000   3.0      1.000000"
      ]
     },
     "metadata": {},
     "output_type": "display_data"
    },
    {
     "name": "stdout",
     "output_type": "stream",
     "text": [
      "The consistency index is: 0.0 \n",
      "\n",
      "The consistency deviation matrix:\n",
      "[[  0.00000000e+00   2.22044605e-16   2.22044605e-16]\n",
      " [ -2.22044605e-16   0.00000000e+00   0.00000000e+00]\n",
      " [ -2.22044605e-16   0.00000000e+00   0.00000000e+00]]\n"
     ]
    }
   ],
   "source": [
    "labels = ['Crazy price fl.', 'OBIC', 'National air']\n",
    "comp_mat = np.array([[1,3,1],[1/3,1,1/3],[1,3,1]])\n",
    "comp_df = pd.DataFrame(comp_mat, index = labels, columns=labels)\n",
    "display(comp_df)\n",
    "ind, mat_E = inconsistency(comp_df)\n",
    "print('The consistency index is:',ind,'\\n')\n",
    "print('The consistency deviation matrix:')\n",
    "print(mat_E-1)"
   ]
  },
  {
   "cell_type": "markdown",
   "metadata": {},
   "source": [
    "The consistency index is 0., the reciprocal matrix is consistent. The normalized priorities are:"
   ]
  },
  {
   "cell_type": "code",
   "execution_count": 15,
   "metadata": {
    "scrolled": true
   },
   "outputs": [
    {
     "data": {
      "text/html": [
       "<div>\n",
       "<style>\n",
       "    .dataframe thead tr:only-child th {\n",
       "        text-align: right;\n",
       "    }\n",
       "\n",
       "    .dataframe thead th {\n",
       "        text-align: left;\n",
       "    }\n",
       "\n",
       "    .dataframe tbody tr th {\n",
       "        vertical-align: top;\n",
       "    }\n",
       "</style>\n",
       "<table border=\"1\" class=\"dataframe\">\n",
       "  <thead>\n",
       "    <tr style=\"text-align: right;\">\n",
       "      <th></th>\n",
       "      <th>priorities</th>\n",
       "    </tr>\n",
       "  </thead>\n",
       "  <tbody>\n",
       "    <tr>\n",
       "      <th>Crazy price fl.</th>\n",
       "      <td>0.429</td>\n",
       "    </tr>\n",
       "    <tr>\n",
       "      <th>OBIC</th>\n",
       "      <td>0.143</td>\n",
       "    </tr>\n",
       "    <tr>\n",
       "      <th>National air</th>\n",
       "      <td>0.429</td>\n",
       "    </tr>\n",
       "  </tbody>\n",
       "</table>\n",
       "</div>"
      ],
      "text/plain": [
       "                 priorities\n",
       "Crazy price fl.       0.429\n",
       "OBIC                  0.143\n",
       "National air          0.429"
      ]
     },
     "metadata": {},
     "output_type": "display_data"
    }
   ],
   "source": [
    "alt_w = pd.DataFrame(priorities(comp_df), index = labels, columns = ('priorities',))\n",
    "display(alt_w.round(3))\n",
    "alternative_priorities += alt_w * normalized_priorities['Crew members']"
   ]
  },
  {
   "cell_type": "markdown",
   "metadata": {},
   "source": [
    "### Alternatives against *Reliability*"
   ]
  },
  {
   "cell_type": "code",
   "execution_count": 16,
   "metadata": {},
   "outputs": [
    {
     "data": {
      "text/html": [
       "<div>\n",
       "<style>\n",
       "    .dataframe thead tr:only-child th {\n",
       "        text-align: right;\n",
       "    }\n",
       "\n",
       "    .dataframe thead th {\n",
       "        text-align: left;\n",
       "    }\n",
       "\n",
       "    .dataframe tbody tr th {\n",
       "        vertical-align: top;\n",
       "    }\n",
       "</style>\n",
       "<table border=\"1\" class=\"dataframe\">\n",
       "  <thead>\n",
       "    <tr style=\"text-align: right;\">\n",
       "      <th></th>\n",
       "      <th>Crazy price fl.</th>\n",
       "      <th>OBIC</th>\n",
       "      <th>National air</th>\n",
       "    </tr>\n",
       "  </thead>\n",
       "  <tbody>\n",
       "    <tr>\n",
       "      <th>Crazy price fl.</th>\n",
       "      <td>1.000000</td>\n",
       "      <td>3.0</td>\n",
       "      <td>0.50</td>\n",
       "    </tr>\n",
       "    <tr>\n",
       "      <th>OBIC</th>\n",
       "      <td>0.333333</td>\n",
       "      <td>1.0</td>\n",
       "      <td>0.25</td>\n",
       "    </tr>\n",
       "    <tr>\n",
       "      <th>National air</th>\n",
       "      <td>2.000000</td>\n",
       "      <td>4.0</td>\n",
       "      <td>1.00</td>\n",
       "    </tr>\n",
       "  </tbody>\n",
       "</table>\n",
       "</div>"
      ],
      "text/plain": [
       "                 Crazy price fl.  OBIC  National air\n",
       "Crazy price fl.         1.000000   3.0          0.50\n",
       "OBIC                    0.333333   1.0          0.25\n",
       "National air            2.000000   4.0          1.00"
      ]
     },
     "metadata": {},
     "output_type": "display_data"
    },
    {
     "name": "stdout",
     "output_type": "stream",
     "text": [
      "The consistency index is: 0.00914735364481 \n",
      "\n",
      "The consistency deviation matrix:\n",
      "[[  0.00000000e+00   1.44714243e-01  -1.26419535e-01]\n",
      " [ -1.26419535e-01   0.00000000e+00   1.44714243e-01]\n",
      " [  1.44714243e-01  -1.26419535e-01  -1.11022302e-16]]\n"
     ]
    }
   ],
   "source": [
    "labels = ['Crazy price fl.', 'OBIC', 'National air']\n",
    "comp_mat = np.array([[1,3,1/2],[1/3,1,1/4],[2,4,1]])\n",
    "comp_df = pd.DataFrame(comp_mat, index = labels, columns=labels)\n",
    "display(comp_df)\n",
    "ind, mat_E = inconsistency(comp_df)\n",
    "print('The consistency index is:',ind,'\\n')\n",
    "print('The consistency deviation matrix:')\n",
    "print(mat_E-1)"
   ]
  },
  {
   "cell_type": "markdown",
   "metadata": {},
   "source": [
    "The statistically maximal admissible consistency index is 0.10 which is significantly higher than 0.009. The normalized priorities are:"
   ]
  },
  {
   "cell_type": "code",
   "execution_count": 17,
   "metadata": {
    "scrolled": false
   },
   "outputs": [
    {
     "data": {
      "text/html": [
       "<div>\n",
       "<style>\n",
       "    .dataframe thead tr:only-child th {\n",
       "        text-align: right;\n",
       "    }\n",
       "\n",
       "    .dataframe thead th {\n",
       "        text-align: left;\n",
       "    }\n",
       "\n",
       "    .dataframe tbody tr th {\n",
       "        vertical-align: top;\n",
       "    }\n",
       "</style>\n",
       "<table border=\"1\" class=\"dataframe\">\n",
       "  <thead>\n",
       "    <tr style=\"text-align: right;\">\n",
       "      <th></th>\n",
       "      <th>priorities</th>\n",
       "    </tr>\n",
       "  </thead>\n",
       "  <tbody>\n",
       "    <tr>\n",
       "      <th>Crazy price fl.</th>\n",
       "      <td>0.320</td>\n",
       "    </tr>\n",
       "    <tr>\n",
       "      <th>OBIC</th>\n",
       "      <td>0.122</td>\n",
       "    </tr>\n",
       "    <tr>\n",
       "      <th>National air</th>\n",
       "      <td>0.558</td>\n",
       "    </tr>\n",
       "  </tbody>\n",
       "</table>\n",
       "</div>"
      ],
      "text/plain": [
       "                 priorities\n",
       "Crazy price fl.       0.320\n",
       "OBIC                  0.122\n",
       "National air          0.558"
      ]
     },
     "metadata": {},
     "output_type": "display_data"
    }
   ],
   "source": [
    "alt_w = pd.DataFrame(priorities(comp_df), index = labels, columns = ('priorities',))\n",
    "display(alt_w.round(3))\n",
    "alternative_priorities += alt_w * normalized_priorities['Reliability']"
   ]
  },
  {
   "cell_type": "markdown",
   "metadata": {},
   "source": [
    "### Alternatives against *Ticket price*"
   ]
  },
  {
   "cell_type": "code",
   "execution_count": 18,
   "metadata": {},
   "outputs": [
    {
     "data": {
      "text/html": [
       "<div>\n",
       "<style>\n",
       "    .dataframe thead tr:only-child th {\n",
       "        text-align: right;\n",
       "    }\n",
       "\n",
       "    .dataframe thead th {\n",
       "        text-align: left;\n",
       "    }\n",
       "\n",
       "    .dataframe tbody tr th {\n",
       "        vertical-align: top;\n",
       "    }\n",
       "</style>\n",
       "<table border=\"1\" class=\"dataframe\">\n",
       "  <thead>\n",
       "    <tr style=\"text-align: right;\">\n",
       "      <th></th>\n",
       "      <th>Crazy price fl.</th>\n",
       "      <th>OBIC</th>\n",
       "      <th>National air</th>\n",
       "    </tr>\n",
       "  </thead>\n",
       "  <tbody>\n",
       "    <tr>\n",
       "      <th>Crazy price fl.</th>\n",
       "      <td>1.0</td>\n",
       "      <td>0.333333</td>\n",
       "      <td>5.0</td>\n",
       "    </tr>\n",
       "    <tr>\n",
       "      <th>OBIC</th>\n",
       "      <td>3.0</td>\n",
       "      <td>1.000000</td>\n",
       "      <td>7.0</td>\n",
       "    </tr>\n",
       "    <tr>\n",
       "      <th>National air</th>\n",
       "      <td>0.2</td>\n",
       "      <td>0.142857</td>\n",
       "      <td>1.0</td>\n",
       "    </tr>\n",
       "  </tbody>\n",
       "</table>\n",
       "</div>"
      ],
      "text/plain": [
       "                 Crazy price fl.      OBIC  National air\n",
       "Crazy price fl.              1.0  0.333333           5.0\n",
       "OBIC                         3.0  1.000000           7.0\n",
       "National air                 0.2  0.142857           1.0"
      ]
     },
     "metadata": {},
     "output_type": "display_data"
    },
    {
     "name": "stdout",
     "output_type": "stream",
     "text": [
      "The consistency index is: 0.0324437899364 \n",
      "\n",
      "The consistency deviation matrix:\n",
      "[[ 0.         -0.22434441  0.28923199]\n",
      " [ 0.28923199  0.         -0.22434441]\n",
      " [-0.22434441  0.28923199  0.        ]]\n"
     ]
    }
   ],
   "source": [
    "labels = ['Crazy price fl.', 'OBIC', 'National air']\n",
    "comp_mat = np.array([[1,1/3,5],[3,1,7],[1/5,1/7,1]])\n",
    "comp_df = pd.DataFrame(comp_mat, index = labels, columns=labels)\n",
    "display(comp_df)\n",
    "ind, mat_E = inconsistency(comp_df)\n",
    "print('The consistency index is:',ind,'\\n')\n",
    "print('The consistency deviation matrix:')\n",
    "print(mat_E-1)"
   ]
  },
  {
   "cell_type": "markdown",
   "metadata": {},
   "source": [
    "The statistically maximal admissible consistency index is 0.10 which is significantly higher than 0.032. The normalized priorities are:"
   ]
  },
  {
   "cell_type": "code",
   "execution_count": 19,
   "metadata": {
    "scrolled": false
   },
   "outputs": [
    {
     "data": {
      "text/html": [
       "<div>\n",
       "<style>\n",
       "    .dataframe thead tr:only-child th {\n",
       "        text-align: right;\n",
       "    }\n",
       "\n",
       "    .dataframe thead th {\n",
       "        text-align: left;\n",
       "    }\n",
       "\n",
       "    .dataframe tbody tr th {\n",
       "        vertical-align: top;\n",
       "    }\n",
       "</style>\n",
       "<table border=\"1\" class=\"dataframe\">\n",
       "  <thead>\n",
       "    <tr style=\"text-align: right;\">\n",
       "      <th></th>\n",
       "      <th>priorities</th>\n",
       "    </tr>\n",
       "  </thead>\n",
       "  <tbody>\n",
       "    <tr>\n",
       "      <th>Crazy price fl.</th>\n",
       "      <td>0.279</td>\n",
       "    </tr>\n",
       "    <tr>\n",
       "      <th>OBIC</th>\n",
       "      <td>0.649</td>\n",
       "    </tr>\n",
       "    <tr>\n",
       "      <th>National air</th>\n",
       "      <td>0.072</td>\n",
       "    </tr>\n",
       "  </tbody>\n",
       "</table>\n",
       "</div>"
      ],
      "text/plain": [
       "                 priorities\n",
       "Crazy price fl.       0.279\n",
       "OBIC                  0.649\n",
       "National air          0.072"
      ]
     },
     "metadata": {},
     "output_type": "display_data"
    }
   ],
   "source": [
    "alt_w = pd.DataFrame(priorities(comp_df), index = labels, columns = ('priorities',))\n",
    "display(alt_w.round(3))\n",
    "alternative_priorities += alt_w * normalized_priorities['Ticket']"
   ]
  },
  {
   "cell_type": "markdown",
   "metadata": {},
   "source": [
    "### Alternatives against *Price of additional services*"
   ]
  },
  {
   "cell_type": "code",
   "execution_count": 20,
   "metadata": {},
   "outputs": [
    {
     "data": {
      "text/html": [
       "<div>\n",
       "<style>\n",
       "    .dataframe thead tr:only-child th {\n",
       "        text-align: right;\n",
       "    }\n",
       "\n",
       "    .dataframe thead th {\n",
       "        text-align: left;\n",
       "    }\n",
       "\n",
       "    .dataframe tbody tr th {\n",
       "        vertical-align: top;\n",
       "    }\n",
       "</style>\n",
       "<table border=\"1\" class=\"dataframe\">\n",
       "  <thead>\n",
       "    <tr style=\"text-align: right;\">\n",
       "      <th></th>\n",
       "      <th>Crazy price fl.</th>\n",
       "      <th>OBIC</th>\n",
       "      <th>National air</th>\n",
       "    </tr>\n",
       "  </thead>\n",
       "  <tbody>\n",
       "    <tr>\n",
       "      <th>Crazy price fl.</th>\n",
       "      <td>1.000000</td>\n",
       "      <td>3.0</td>\n",
       "      <td>0.142857</td>\n",
       "    </tr>\n",
       "    <tr>\n",
       "      <th>OBIC</th>\n",
       "      <td>0.333333</td>\n",
       "      <td>1.0</td>\n",
       "      <td>0.125000</td>\n",
       "    </tr>\n",
       "    <tr>\n",
       "      <th>National air</th>\n",
       "      <td>7.000000</td>\n",
       "      <td>8.0</td>\n",
       "      <td>1.000000</td>\n",
       "    </tr>\n",
       "  </tbody>\n",
       "</table>\n",
       "</div>"
      ],
      "text/plain": [
       "                 Crazy price fl.  OBIC  National air\n",
       "Crazy price fl.         1.000000   3.0      0.142857\n",
       "OBIC                    0.333333   1.0      0.125000\n",
       "National air            7.000000   8.0      1.000000"
      ]
     },
     "metadata": {},
     "output_type": "display_data"
    },
    {
     "name": "stdout",
     "output_type": "stream",
     "text": [
      "The consistency index is: 0.0521911684296 \n",
      "\n",
      "The consistency deviation matrix:\n",
      "[[  0.00000000e+00   3.79462088e-01  -2.75079751e-01]\n",
      " [ -2.75079751e-01   0.00000000e+00   3.79462088e-01]\n",
      " [  3.79462088e-01  -2.75079751e-01  -1.11022302e-16]]\n"
     ]
    }
   ],
   "source": [
    "labels = ['Crazy price fl.', 'OBIC', 'National air']\n",
    "comp_mat = np.array([[1,3,1/7],[1/3,1,1/8],[7,8,1]])\n",
    "comp_df = pd.DataFrame(comp_mat, index = labels, columns=labels)\n",
    "display(comp_df)\n",
    "ind, mat_E = inconsistency(comp_df)\n",
    "print('The consistency index is:',ind,'\\n')\n",
    "print('The consistency deviation matrix:')\n",
    "print(mat_E-1)"
   ]
  },
  {
   "cell_type": "markdown",
   "metadata": {},
   "source": [
    "The statistically maximal admissible consistency index is 0.10 which is significantly higher than 0.052. The normalized priorities are:"
   ]
  },
  {
   "cell_type": "code",
   "execution_count": 21,
   "metadata": {
    "scrolled": false
   },
   "outputs": [
    {
     "data": {
      "text/html": [
       "<div>\n",
       "<style>\n",
       "    .dataframe thead tr:only-child th {\n",
       "        text-align: right;\n",
       "    }\n",
       "\n",
       "    .dataframe thead th {\n",
       "        text-align: left;\n",
       "    }\n",
       "\n",
       "    .dataframe tbody tr th {\n",
       "        vertical-align: top;\n",
       "    }\n",
       "</style>\n",
       "<table border=\"1\" class=\"dataframe\">\n",
       "  <thead>\n",
       "    <tr style=\"text-align: right;\">\n",
       "      <th></th>\n",
       "      <th>priorities</th>\n",
       "    </tr>\n",
       "  </thead>\n",
       "  <tbody>\n",
       "    <tr>\n",
       "      <th>Crazy price fl.</th>\n",
       "      <td>0.153</td>\n",
       "    </tr>\n",
       "    <tr>\n",
       "      <th>OBIC</th>\n",
       "      <td>0.070</td>\n",
       "    </tr>\n",
       "    <tr>\n",
       "      <th>National air</th>\n",
       "      <td>0.777</td>\n",
       "    </tr>\n",
       "  </tbody>\n",
       "</table>\n",
       "</div>"
      ],
      "text/plain": [
       "                 priorities\n",
       "Crazy price fl.       0.153\n",
       "OBIC                  0.070\n",
       "National air          0.777"
      ]
     },
     "metadata": {},
     "output_type": "display_data"
    }
   ],
   "source": [
    "alt_w = pd.DataFrame(priorities(comp_df), index = labels, columns = ('priorities',))\n",
    "display(alt_w.round(3))\n",
    "alternative_priorities += alt_w * normalized_priorities['Add. services']"
   ]
  },
  {
   "cell_type": "markdown",
   "metadata": {},
   "source": [
    "### Alternatives against *Discount with partners*"
   ]
  },
  {
   "cell_type": "code",
   "execution_count": 22,
   "metadata": {},
   "outputs": [
    {
     "data": {
      "text/html": [
       "<div>\n",
       "<style>\n",
       "    .dataframe thead tr:only-child th {\n",
       "        text-align: right;\n",
       "    }\n",
       "\n",
       "    .dataframe thead th {\n",
       "        text-align: left;\n",
       "    }\n",
       "\n",
       "    .dataframe tbody tr th {\n",
       "        vertical-align: top;\n",
       "    }\n",
       "</style>\n",
       "<table border=\"1\" class=\"dataframe\">\n",
       "  <thead>\n",
       "    <tr style=\"text-align: right;\">\n",
       "      <th></th>\n",
       "      <th>Crazy price fl.</th>\n",
       "      <th>OBIC</th>\n",
       "      <th>National air</th>\n",
       "    </tr>\n",
       "  </thead>\n",
       "  <tbody>\n",
       "    <tr>\n",
       "      <th>Crazy price fl.</th>\n",
       "      <td>1.0</td>\n",
       "      <td>2.0</td>\n",
       "      <td>1.0</td>\n",
       "    </tr>\n",
       "    <tr>\n",
       "      <th>OBIC</th>\n",
       "      <td>0.5</td>\n",
       "      <td>1.0</td>\n",
       "      <td>0.5</td>\n",
       "    </tr>\n",
       "    <tr>\n",
       "      <th>National air</th>\n",
       "      <td>1.0</td>\n",
       "      <td>2.0</td>\n",
       "      <td>1.0</td>\n",
       "    </tr>\n",
       "  </tbody>\n",
       "</table>\n",
       "</div>"
      ],
      "text/plain": [
       "                 Crazy price fl.  OBIC  National air\n",
       "Crazy price fl.              1.0   2.0           1.0\n",
       "OBIC                         0.5   1.0           0.5\n",
       "National air                 1.0   2.0           1.0"
      ]
     },
     "metadata": {},
     "output_type": "display_data"
    },
    {
     "name": "stdout",
     "output_type": "stream",
     "text": [
      "The consistency index is: 0.0 \n",
      "\n",
      "The consistency deviation matrix:\n",
      "[[  0.00000000e+00  -3.33066907e-16   0.00000000e+00]\n",
      " [  4.44089210e-16   0.00000000e+00   4.44089210e-16]\n",
      " [  0.00000000e+00  -3.33066907e-16   0.00000000e+00]]\n"
     ]
    }
   ],
   "source": [
    "labels = ['Crazy price fl.', 'OBIC', 'National air']\n",
    "comp_mat = np.array([[1,2,1],[1/2,1,1/2],[1,2,1]])\n",
    "comp_df = pd.DataFrame(comp_mat, index = labels, columns=labels)\n",
    "display(comp_df)\n",
    "ind, mat_E = inconsistency(comp_df)\n",
    "print('The consistency index is:',ind,'\\n')\n",
    "print('The consistency deviation matrix:')\n",
    "print(mat_E-1)"
   ]
  },
  {
   "cell_type": "markdown",
   "metadata": {},
   "source": [
    "The consistency index is 0., the reciprocal matrix is consistent. The normalized priorities are:"
   ]
  },
  {
   "cell_type": "code",
   "execution_count": 23,
   "metadata": {
    "scrolled": false
   },
   "outputs": [
    {
     "data": {
      "text/html": [
       "<div>\n",
       "<style>\n",
       "    .dataframe thead tr:only-child th {\n",
       "        text-align: right;\n",
       "    }\n",
       "\n",
       "    .dataframe thead th {\n",
       "        text-align: left;\n",
       "    }\n",
       "\n",
       "    .dataframe tbody tr th {\n",
       "        vertical-align: top;\n",
       "    }\n",
       "</style>\n",
       "<table border=\"1\" class=\"dataframe\">\n",
       "  <thead>\n",
       "    <tr style=\"text-align: right;\">\n",
       "      <th></th>\n",
       "      <th>priorities</th>\n",
       "    </tr>\n",
       "  </thead>\n",
       "  <tbody>\n",
       "    <tr>\n",
       "      <th>Crazy price fl.</th>\n",
       "      <td>0.4</td>\n",
       "    </tr>\n",
       "    <tr>\n",
       "      <th>OBIC</th>\n",
       "      <td>0.2</td>\n",
       "    </tr>\n",
       "    <tr>\n",
       "      <th>National air</th>\n",
       "      <td>0.4</td>\n",
       "    </tr>\n",
       "  </tbody>\n",
       "</table>\n",
       "</div>"
      ],
      "text/plain": [
       "                 priorities\n",
       "Crazy price fl.         0.4\n",
       "OBIC                    0.2\n",
       "National air            0.4"
      ]
     },
     "metadata": {},
     "output_type": "display_data"
    }
   ],
   "source": [
    "alt_w = pd.DataFrame(priorities(comp_df), index = labels, columns = ('priorities',))\n",
    "display(alt_w.round(3))\n",
    "alternative_priorities += alt_w * normalized_priorities['Reductions']"
   ]
  },
  {
   "cell_type": "markdown",
   "metadata": {},
   "source": [
    "The priorities of alternatives are multiplied with the priorities of the *covering criteria* they are compared against. They are eventually summed which gives their **priority against the main objective**.\n",
    "\n",
    "It is checked that these priorities sum to 1."
   ]
  },
  {
   "cell_type": "code",
   "execution_count": 24,
   "metadata": {},
   "outputs": [
    {
     "data": {
      "text/html": [
       "<div>\n",
       "<style>\n",
       "    .dataframe thead tr:only-child th {\n",
       "        text-align: right;\n",
       "    }\n",
       "\n",
       "    .dataframe thead th {\n",
       "        text-align: left;\n",
       "    }\n",
       "\n",
       "    .dataframe tbody tr th {\n",
       "        vertical-align: top;\n",
       "    }\n",
       "</style>\n",
       "<table border=\"1\" class=\"dataframe\">\n",
       "  <thead>\n",
       "    <tr style=\"text-align: right;\">\n",
       "      <th></th>\n",
       "      <th>priorities</th>\n",
       "    </tr>\n",
       "  </thead>\n",
       "  <tbody>\n",
       "    <tr>\n",
       "      <th>Crazy price fl.</th>\n",
       "      <td>0.309</td>\n",
       "    </tr>\n",
       "    <tr>\n",
       "      <th>OBIC</th>\n",
       "      <td>0.241</td>\n",
       "    </tr>\n",
       "    <tr>\n",
       "      <th>National air</th>\n",
       "      <td>0.450</td>\n",
       "    </tr>\n",
       "  </tbody>\n",
       "</table>\n",
       "</div>"
      ],
      "text/plain": [
       "                 priorities\n",
       "Crazy price fl.       0.309\n",
       "OBIC                  0.241\n",
       "National air          0.450"
      ]
     },
     "metadata": {},
     "output_type": "display_data"
    },
    {
     "name": "stdout",
     "output_type": "stream",
     "text": [
      "Sum of priorities = 1.000000\n"
     ]
    }
   ],
   "source": [
    "display(alternative_priorities.round(3))\n",
    "print('Sum of priorities = {0:f}'.format(alternative_priorities.as_matrix().sum()))"
   ]
  },
  {
   "cell_type": "markdown",
   "metadata": {},
   "source": [
    "## CONCLUSION\n",
    "The winner is **National Air** with a score of 45.0%, followed by **Crazy price flights** with a score of 30.9%.  **Oh Boy It's Cheap Air** with a score of 24.1% is in last position."
   ]
  },
  {
   "cell_type": "code",
   "execution_count": null,
   "metadata": {
    "collapsed": true
   },
   "outputs": [],
   "source": []
  }
 ],
 "metadata": {
  "kernelspec": {
   "display_name": "Python [default]",
   "language": "python",
   "name": "python3"
  },
  "language_info": {
   "codemirror_mode": {
    "name": "ipython",
    "version": 3
   },
   "file_extension": ".py",
   "mimetype": "text/x-python",
   "name": "python",
   "nbconvert_exporter": "python",
   "pygments_lexer": "ipython3",
   "version": "3.5.3"
  }
 },
 "nbformat": 4,
 "nbformat_minor": 2
}
