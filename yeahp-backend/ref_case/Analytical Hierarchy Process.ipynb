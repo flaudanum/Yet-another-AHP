{
 "cells": [
  {
   "cell_type": "code",
   "execution_count": 12,
   "metadata": {
    "collapsed": true
   },
   "outputs": [],
   "source": [
    "import numpy as np\n",
    "import pandas as pd"
   ]
  },
  {
   "cell_type": "code",
   "execution_count": 13,
   "metadata": {},
   "outputs": [],
   "source": [
    "def approx_prio(judg_df):\n",
    "    total_sum = judg_df.sum().sum()\n",
    "    return judg_df.sum(axis=1) / total_sum\n",
    "\n",
    "def eigen_prio(judg_df):\n",
    "    eig_val, eig_vect = np.linalg.eig(judg_df.as_matrix())\n",
    "    priorities = eig_vect[:,0]\n",
    "    # There is no imaginary part, it is mainly a type conversion\n",
    "    return np.real(priorities / priorities.sum())\n",
    "\n",
    "def inconsistency(judg_df):\n",
    "    eig_val, eig_vect = np.linalg.eig(judg_df.as_matrix())\n",
    "    n = judg_df.shape[0]\n",
    "    # consistency index\n",
    "    index = (np.real(eig_val[0]) - n) / (n - 1)\n",
    "    # priority vector\n",
    "    w = eig_vect[:,0]\n",
    "    w = np.real(w / w.sum())\n",
    "    D = np.diag(w)\n",
    "    E = np.dot(np.linalg.solve(D,judg_df), D)\n",
    "    return index, E\n",
    "    "
   ]
  },
  {
   "cell_type": "markdown",
   "metadata": {},
   "source": [
    "# Decision making with the analytic hierarchy process\n",
    "**Reference**: Int. J. Services Sciences, Vol. 1, No. 1, 2008\n",
    "\n",
    "**Author**: Thomas L. Saaty"
   ]
  },
  {
   "cell_type": "markdown",
   "metadata": {},
   "source": [
    "## Relative consumption of drinks"
   ]
  },
  {
   "cell_type": "markdown",
   "metadata": {},
   "source": [
    "Here is the *judgment matrix* for the relative consumption of drinks in the US."
   ]
  },
  {
   "cell_type": "code",
   "execution_count": 14,
   "metadata": {},
   "outputs": [
    {
     "data": {
      "text/html": [
       "<div>\n",
       "<style>\n",
       "    .dataframe thead tr:only-child th {\n",
       "        text-align: right;\n",
       "    }\n",
       "\n",
       "    .dataframe thead th {\n",
       "        text-align: left;\n",
       "    }\n",
       "\n",
       "    .dataframe tbody tr th {\n",
       "        vertical-align: top;\n",
       "    }\n",
       "</style>\n",
       "<table border=\"1\" class=\"dataframe\">\n",
       "  <thead>\n",
       "    <tr style=\"text-align: right;\">\n",
       "      <th></th>\n",
       "      <th>coffee</th>\n",
       "      <th>wine</th>\n",
       "      <th>tea</th>\n",
       "      <th>beer</th>\n",
       "      <th>sodas</th>\n",
       "      <th>milk</th>\n",
       "      <th>water</th>\n",
       "    </tr>\n",
       "  </thead>\n",
       "  <tbody>\n",
       "    <tr>\n",
       "      <th>coffee</th>\n",
       "      <td>1.000000</td>\n",
       "      <td>9.0</td>\n",
       "      <td>5.000000</td>\n",
       "      <td>2.000000</td>\n",
       "      <td>1.000000</td>\n",
       "      <td>1.000000</td>\n",
       "      <td>0.500000</td>\n",
       "    </tr>\n",
       "    <tr>\n",
       "      <th>wine</th>\n",
       "      <td>0.111111</td>\n",
       "      <td>1.0</td>\n",
       "      <td>0.333333</td>\n",
       "      <td>0.111111</td>\n",
       "      <td>0.111111</td>\n",
       "      <td>0.111111</td>\n",
       "      <td>0.111111</td>\n",
       "    </tr>\n",
       "    <tr>\n",
       "      <th>tea</th>\n",
       "      <td>0.200000</td>\n",
       "      <td>2.0</td>\n",
       "      <td>1.000000</td>\n",
       "      <td>0.333333</td>\n",
       "      <td>0.250000</td>\n",
       "      <td>0.333333</td>\n",
       "      <td>0.111111</td>\n",
       "    </tr>\n",
       "    <tr>\n",
       "      <th>beer</th>\n",
       "      <td>0.500000</td>\n",
       "      <td>9.0</td>\n",
       "      <td>3.000000</td>\n",
       "      <td>1.000000</td>\n",
       "      <td>0.500000</td>\n",
       "      <td>1.000000</td>\n",
       "      <td>0.333333</td>\n",
       "    </tr>\n",
       "    <tr>\n",
       "      <th>sodas</th>\n",
       "      <td>1.000000</td>\n",
       "      <td>9.0</td>\n",
       "      <td>4.000000</td>\n",
       "      <td>2.000000</td>\n",
       "      <td>1.000000</td>\n",
       "      <td>2.000000</td>\n",
       "      <td>0.500000</td>\n",
       "    </tr>\n",
       "    <tr>\n",
       "      <th>milk</th>\n",
       "      <td>1.000000</td>\n",
       "      <td>9.0</td>\n",
       "      <td>3.000000</td>\n",
       "      <td>1.000000</td>\n",
       "      <td>0.500000</td>\n",
       "      <td>1.000000</td>\n",
       "      <td>0.333333</td>\n",
       "    </tr>\n",
       "    <tr>\n",
       "      <th>water</th>\n",
       "      <td>2.000000</td>\n",
       "      <td>9.0</td>\n",
       "      <td>9.000000</td>\n",
       "      <td>3.000000</td>\n",
       "      <td>2.000000</td>\n",
       "      <td>3.000000</td>\n",
       "      <td>1.000000</td>\n",
       "    </tr>\n",
       "  </tbody>\n",
       "</table>\n",
       "</div>"
      ],
      "text/plain": [
       "          coffee  wine       tea      beer     sodas      milk     water\n",
       "coffee  1.000000   9.0  5.000000  2.000000  1.000000  1.000000  0.500000\n",
       "wine    0.111111   1.0  0.333333  0.111111  0.111111  0.111111  0.111111\n",
       "tea     0.200000   2.0  1.000000  0.333333  0.250000  0.333333  0.111111\n",
       "beer    0.500000   9.0  3.000000  1.000000  0.500000  1.000000  0.333333\n",
       "sodas   1.000000   9.0  4.000000  2.000000  1.000000  2.000000  0.500000\n",
       "milk    1.000000   9.0  3.000000  1.000000  0.500000  1.000000  0.333333\n",
       "water   2.000000   9.0  9.000000  3.000000  2.000000  3.000000  1.000000"
      ]
     },
     "execution_count": 14,
     "metadata": {},
     "output_type": "execute_result"
    }
   ],
   "source": [
    "comp_mat = np.array([\n",
    "[1,9,5,2,1,1,1/2], \n",
    "[1/9,1,1/3,1/9,1/9,1/9,1/9],\n",
    "[1/5,2,1,1/3,1/4,1/3,1/9],\n",
    "[1/2,9,3,1,1/2,1,1/3],\n",
    "[1,9,4,2,1,2,1/2],\n",
    "[1,9,3,1,1/2,1,1/3],\n",
    "[2,9,9,3,2,3,1]])\n",
    "labels = ['coffee','wine','tea','beer','sodas','milk','water']\n",
    "df = pd.DataFrame(comp_mat, index = labels, columns=labels)\n",
    "df"
   ]
  },
  {
   "cell_type": "markdown",
   "metadata": {},
   "source": [
    "### Approximate calculus of priorities\n",
    "The *priorities* are computed as the sum of each row divided by the total sum of the *comparison* or *judgment matrix*:"
   ]
  },
  {
   "cell_type": "code",
   "execution_count": 15,
   "metadata": {},
   "outputs": [
    {
     "data": {
      "text/plain": [
       "coffee    0.185215\n",
       "wine      0.017941\n",
       "tea       0.040156\n",
       "beer      0.145639\n",
       "sodas     0.185215\n",
       "milk      0.150388\n",
       "water     0.275447\n",
       "dtype: float64"
      ]
     },
     "execution_count": 15,
     "metadata": {},
     "output_type": "execute_result"
    }
   ],
   "source": [
    "approx_prio(df)"
   ]
  },
  {
   "cell_type": "markdown",
   "metadata": {},
   "source": [
    "### Accurate Calculus of priorities\n",
    "The priorities are calculted from the eigen value/vector problem. The eigen vector is then normalized by the sum of the priority vector components. As it is positive real valued, it is equivalent to a normalization by the L1-norm."
   ]
  },
  {
   "cell_type": "code",
   "execution_count": 16,
   "metadata": {},
   "outputs": [
    {
     "data": {
      "text/plain": [
       "array([ 0.178,  0.019,  0.039,  0.117,  0.19 ,  0.129,  0.327])"
      ]
     },
     "execution_count": 16,
     "metadata": {},
     "output_type": "execute_result"
    }
   ],
   "source": [
    "eigen_prio(df).round(3)"
   ]
  },
  {
   "cell_type": "markdown",
   "metadata": {
    "collapsed": true
   },
   "source": [
    "# Relative measurement and its generalization in decision making\n",
    "# Why pairwise comparisons are central in mathematics for the measurement of intangible factors\n",
    "# The Analytic Hierarchy/Network process\n",
    "**Reference**: Rev. R. Acad. Cien. Serie A. Mat. VOL. 102(2), 2008, pp. 251-318\n",
    "\n",
    "**Author**: Thomas L. Saaty"
   ]
  },
  {
   "cell_type": "markdown",
   "metadata": {},
   "source": [
    "## Judgments, outcomes, and actual relative sizes of the five geometric shapes"
   ]
  },
  {
   "cell_type": "code",
   "execution_count": 17,
   "metadata": {},
   "outputs": [
    {
     "data": {
      "text/html": [
       "<div>\n",
       "<style>\n",
       "    .dataframe thead tr:only-child th {\n",
       "        text-align: right;\n",
       "    }\n",
       "\n",
       "    .dataframe thead th {\n",
       "        text-align: left;\n",
       "    }\n",
       "\n",
       "    .dataframe tbody tr th {\n",
       "        vertical-align: top;\n",
       "    }\n",
       "</style>\n",
       "<table border=\"1\" class=\"dataframe\">\n",
       "  <thead>\n",
       "    <tr style=\"text-align: right;\">\n",
       "      <th></th>\n",
       "      <th>circle</th>\n",
       "      <th>triangle</th>\n",
       "      <th>square</th>\n",
       "      <th>diamond</th>\n",
       "      <th>rectangle</th>\n",
       "    </tr>\n",
       "  </thead>\n",
       "  <tbody>\n",
       "    <tr>\n",
       "      <th>circle</th>\n",
       "      <td>1.000000</td>\n",
       "      <td>9.0</td>\n",
       "      <td>2.000000</td>\n",
       "      <td>3.000000</td>\n",
       "      <td>5.0</td>\n",
       "    </tr>\n",
       "    <tr>\n",
       "      <th>triangle</th>\n",
       "      <td>0.111111</td>\n",
       "      <td>1.0</td>\n",
       "      <td>0.200000</td>\n",
       "      <td>0.333333</td>\n",
       "      <td>0.5</td>\n",
       "    </tr>\n",
       "    <tr>\n",
       "      <th>square</th>\n",
       "      <td>0.500000</td>\n",
       "      <td>5.0</td>\n",
       "      <td>1.000000</td>\n",
       "      <td>1.500000</td>\n",
       "      <td>3.0</td>\n",
       "    </tr>\n",
       "    <tr>\n",
       "      <th>diamond</th>\n",
       "      <td>0.333333</td>\n",
       "      <td>3.0</td>\n",
       "      <td>0.666667</td>\n",
       "      <td>1.000000</td>\n",
       "      <td>1.5</td>\n",
       "    </tr>\n",
       "    <tr>\n",
       "      <th>rectangle</th>\n",
       "      <td>0.200000</td>\n",
       "      <td>2.0</td>\n",
       "      <td>0.333333</td>\n",
       "      <td>0.666667</td>\n",
       "      <td>1.0</td>\n",
       "    </tr>\n",
       "  </tbody>\n",
       "</table>\n",
       "</div>"
      ],
      "text/plain": [
       "             circle  triangle    square   diamond  rectangle\n",
       "circle     1.000000       9.0  2.000000  3.000000        5.0\n",
       "triangle   0.111111       1.0  0.200000  0.333333        0.5\n",
       "square     0.500000       5.0  1.000000  1.500000        3.0\n",
       "diamond    0.333333       3.0  0.666667  1.000000        1.5\n",
       "rectangle  0.200000       2.0  0.333333  0.666667        1.0"
      ]
     },
     "execution_count": 17,
     "metadata": {},
     "output_type": "execute_result"
    }
   ],
   "source": [
    "judg_mat = np.array([\n",
    "[1,9,2,3,5],\n",
    "[1/9,1,1/5,1/3,1/2],\n",
    "[1/2,5,1,3/2,3],\n",
    "[1/3,3,2/3,1,3/2],\n",
    "[1/5,2,1/3,2/3,1]])\n",
    "labels = ['circle','triangle','square','diamond','rectangle']\n",
    "df = pd.DataFrame(judg_mat, index = labels, columns=labels)\n",
    "df"
   ]
  },
  {
   "cell_type": "markdown",
   "metadata": {},
   "source": [
    "### Calculating priorities\n",
    "The *priorities* are computed as the sum of each row divided by the total sum of the *comparison* or *judgment matrix*:"
   ]
  },
  {
   "cell_type": "code",
   "execution_count": 18,
   "metadata": {},
   "outputs": [
    {
     "data": {
      "text/plain": [
       "circle       0.456158\n",
       "triangle     0.048910\n",
       "square       0.250887\n",
       "diamond      0.148251\n",
       "rectangle    0.095793\n",
       "dtype: float64"
      ]
     },
     "execution_count": 18,
     "metadata": {},
     "output_type": "execute_result"
    }
   ],
   "source": [
    "approx_prio(df)"
   ]
  },
  {
   "cell_type": "markdown",
   "metadata": {},
   "source": [
    "Accurate computation of priorities:"
   ]
  },
  {
   "cell_type": "code",
   "execution_count": 19,
   "metadata": {},
   "outputs": [
    {
     "data": {
      "text/plain": [
       "array([ 0.462,  0.049,  0.245,  0.151,  0.093])"
      ]
     },
     "execution_count": 19,
     "metadata": {},
     "output_type": "execute_result"
    }
   ],
   "source": [
    "eigen_prio(df).round(3)"
   ]
  },
  {
   "cell_type": "code",
   "execution_count": 23,
   "metadata": {},
   "outputs": [
    {
     "name": "stdout",
     "output_type": "stream",
     "text": [
      "The consistency index is: 0.00193921173303 \n",
      "\n",
      "The inconsitency matrix is:\n",
      "[[ 1.          0.95868012  1.0615159   0.97987755  1.00768328]\n",
      " [ 1.0431008   1.          0.99654128  1.02211106  0.94600371]\n",
      " [ 0.94204901  1.00347073  1.          0.92309268  1.13914444]\n",
      " [ 1.02053568  0.97836726  1.08331485  1.          0.92553906]\n",
      " [ 0.99237531  1.05707831  0.87785181  1.08045143  1.        ]] \n",
      "\n",
      "The consistency deviation matrix:\n",
      "[[ 0.         -0.04131988  0.0615159  -0.02012245  0.00768328]\n",
      " [ 0.0431008   0.         -0.00345872  0.02211106 -0.05399629]\n",
      " [-0.05795099  0.00347073  0.         -0.07690732  0.13914444]\n",
      " [ 0.02053568 -0.02163274  0.08331485  0.         -0.07446094]\n",
      " [-0.00762469  0.05707831 -0.12214819  0.08045143  0.        ]] \n",
      "\n",
      "The maximal deviation is 0.139144436666\n"
     ]
    }
   ],
   "source": [
    "ind, mat_E = inconsistency(df)\n",
    "print('The consistency index is:',ind,'\\n')\n",
    "print('The inconsitency matrix is:')\n",
    "print(mat_E,'\\n')\n",
    "print('The consistency deviation matrix:')\n",
    "print(mat_E-1,'\\n')\n",
    "print(\"The maximal deviation is\",(mat_E - 1).max().max())"
   ]
  },
  {
   "cell_type": "markdown",
   "metadata": {},
   "source": [
    "The statistically maximal admissible *consistency index* is 0.10 >> 0.0019. The matrix is very consistent."
   ]
  },
  {
   "cell_type": "code",
   "execution_count": null,
   "metadata": {
    "collapsed": true
   },
   "outputs": [],
   "source": []
  }
 ],
 "metadata": {
  "kernelspec": {
   "display_name": "Python [default]",
   "language": "python",
   "name": "python3"
  },
  "language_info": {
   "codemirror_mode": {
    "name": "ipython",
    "version": 3
   },
   "file_extension": ".py",
   "mimetype": "text/x-python",
   "name": "python",
   "nbconvert_exporter": "python",
   "pygments_lexer": "ipython3",
   "version": "3.5.3"
  }
 },
 "nbformat": 4,
 "nbformat_minor": 2
}
