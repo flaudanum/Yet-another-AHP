{
 "cells": [
  {
   "cell_type": "markdown",
   "id": "514854b4-1c50-4f85-8714-1294d648aed9",
   "metadata": {
    "tags": []
   },
   "source": [
    "# Graph drawing algorithm A\n",
    "This note book provides a reference case for _Algorithm A_ for the drawing of hierarchy graphs.\n",
    "The hierarchy is composed of 7 nodes (including the root node) and is 2-depth symmetrical tree."
   ]
  },
  {
   "cell_type": "code",
   "execution_count": 1,
   "id": "af7de653-3d70-49dd-ac04-824e3ad19e5b",
   "metadata": {},
   "outputs": [],
   "source": [
    "import numpy as np\n",
    "import cvxpy as cp"
   ]
  },
  {
   "cell_type": "markdown",
   "id": "e8081658-0f6f-4a22-b6b9-2831ad7d1ebc",
   "metadata": {},
   "source": [
    "## Base matrices of the optimization problem\n",
    "These matrices are written in the real coordinate system. The vertical locations along axis _y_ are stored in vector $\\mathbf{Y}$:\n",
    "$$\n",
    "\\mathbf{Y} = \\left< y_{2,1} y_{2,2} y_{3,1} y_{3,2} y_{3,3} y_{3,4} \\right>\n",
    "$$\n",
    "\n",
    "**Barycentric** relations between parent and child nodes:\n",
    "$$\n",
    "[A]\\cdot\\mathbf{Y} = \\mathbb0_3\n",
    "$$"
   ]
  },
  {
   "cell_type": "code",
   "execution_count": 2,
   "id": "f501f5b1-aa1f-40f3-962e-f2e0fea78cc7",
   "metadata": {},
   "outputs": [
    {
     "name": "stdout",
     "output_type": "stream",
     "text": [
      "mat_a = \n",
      " [[ 1  1  0  0  0  0]\n",
      " [ 2  0 -1 -1  0  0]\n",
      " [ 0  2  0  0 -1 -1]]\n"
     ]
    }
   ],
   "source": [
    "mat_a = np.array([\n",
    "    [1, 1, 0, 0, 0, 0],\n",
    "    [2, 0, -1, -1, 0, 0],\n",
    "    [0, 2, 0, 0, -1, -1]\n",
    "])\n",
    "print(\"mat_a = \\n\", mat_a)"
   ]
  },
  {
   "cell_type": "markdown",
   "id": "5700479d-0309-41cc-be1f-247f2092460f",
   "metadata": {},
   "source": [
    "**Minimal distance** relations:\n",
    "$$\n",
    "[G]\\cdot \\mathbf{Y}\\ge d_\\mathrm{min} \\mathbb{1}_4\n",
    "$$"
   ]
  },
  {
   "cell_type": "code",
   "execution_count": 3,
   "id": "9bba4bf2-4188-40cc-8a50-4da30bcaca4d",
   "metadata": {},
   "outputs": [
    {
     "data": {
      "text/plain": [
       "array([[-1,  1,  0,  0,  0,  0],\n",
       "       [ 0,  0, -1,  1,  0,  0],\n",
       "       [ 0,  0,  0, -1,  1,  0],\n",
       "       [ 0,  0,  0,  0, -1,  1]])"
      ]
     },
     "metadata": {},
     "output_type": "display_data"
    },
    {
     "name": "stdout",
     "output_type": "stream",
     "text": [
      "u = \n",
      " [[ 0.        1.        0.        0.      ]\n",
      " [ 0.5       0.        0.707107  0.5     ]\n",
      " [-0.707107  0.        0.        0.707107]\n",
      " [ 0.5       0.       -0.707107  0.5     ]]\n",
      "vh = \n",
      " [[-0.        0.       -0.270598  0.653281 -0.653281  0.270598]\n",
      " [-0.707107  0.707107  0.        0.        0.        0.      ]\n",
      " [-0.       -0.       -0.5       0.5       0.5      -0.5     ]\n",
      " [ 0.        0.       -0.653281 -0.270598  0.270598  0.653281]\n",
      " [ 0.533989  0.533989  0.327762  0.327762  0.327762  0.327762]\n",
      " [-0.463525 -0.463525  0.377588  0.377588  0.377588  0.377588]]\n",
      "s = \n",
      " [1.847759 1.414214 1.414214 0.765367]\n"
     ]
    }
   ],
   "source": [
    "mat_g = np.array([\n",
    "    [-1, 1, 0, 0, 0, 0],\n",
    "    [0, 0, -1, 1, 0, 0],\n",
    "    [0, 0, 0, -1, 1, 0],\n",
    "    [0, 0, 0, 0, -1, 1]\n",
    "])\n",
    "d_min = 30\n",
    "u, s, vh = np.linalg.svd(mat_g)\n",
    "display(mat_g)\n",
    "with np.printoptions(suppress=True, precision=6):\n",
    "    print(\"u = \\n\", u)\n",
    "    print(\"vh = \\n\", vh)\n",
    "    print(\"s = \\n\", s)"
   ]
  },
  {
   "cell_type": "markdown",
   "id": "a43d6786-ec25-4858-9d2e-9739e6683de2",
   "metadata": {},
   "source": [
    "The **cost function** to reduce:"
   ]
  },
  {
   "cell_type": "code",
   "execution_count": 4,
   "id": "7cf6a6bc-f079-4daa-be9f-0d22e65aa250",
   "metadata": {},
   "outputs": [
    {
     "data": {
      "text/plain": [
       "array([-1,  1, -1,  0,  0,  1])"
      ]
     },
     "metadata": {},
     "output_type": "display_data"
    }
   ],
   "source": [
    "lform_c = np.array([-1, 1, -1, 0, 0, 1])\n",
    "display(lform_c)"
   ]
  },
  {
   "cell_type": "markdown",
   "id": "2c4cfa79-96bf-4724-bc0a-c78e39f882b8",
   "metadata": {},
   "source": [
    "**Transformation** to unknown vector $\\mathbf{X}$ which verifies:\n",
    "$$\n",
    "[G]\\cdot \\mathbf{Y}\\ge d_\\mathrm{min} \\mathbb{1}_4 \\iff \\mathbf{X} \\ge \\mathbb0_4\n",
    "$$\n",
    "with\n",
    "$$\n",
    "\\mathbf{X} = \\left<\\begin{matrix}\n",
    "y_{2,1} & y_{2,2}-y_{2,1}-d_\\mathrm{min} & y_{3,1} & y_{3,2}-y_{3,1}-d_\\mathrm{min} & y_{3,3}-y_{3,2}-d_\\mathrm{min} & y_{3,4}-y_{3,3}-d_\\mathrm{min}\n",
    "\\end{matrix}\\right>\n",
    "$$\n",
    "which writes:\n",
    "$$\n",
    "\\mathbf{X} = [P]\\cdot\\mathbf{Y}-\\mathbf{b}\n",
    "$$\n",
    "The inverse relationship being:\n",
    "$$\n",
    "\\mathbf{Y} = [P]^{-1}\\cdot\\left(\\mathbf{X}+\\mathbf{b}\\right)\n",
    "$$\n",
    "Remark: matrix $[P]$ is a unipotent [matrix](https://en.wikipedia.org/wiki/Unipotent) matrix."
   ]
  },
  {
   "cell_type": "code",
   "execution_count": 5,
   "id": "96beff48-9bbd-4a3e-a160-33e017bac754",
   "metadata": {},
   "outputs": [
    {
     "name": "stdout",
     "output_type": "stream",
     "text": [
      "mat_p = \n",
      " [[ 1  0  0  0  0  0]\n",
      " [-1  1  0  0  0  0]\n",
      " [ 0  0  1  0  0  0]\n",
      " [ 0  0 -1  1  0  0]\n",
      " [ 0  0  0 -1  1  0]\n",
      " [ 0  0  0  0 -1  1]]\n",
      "inv_mat_p = \n",
      " [[1. 0. 0. 0. 0. 0.]\n",
      " [1. 1. 0. 0. 0. 0.]\n",
      " [0. 0. 1. 0. 0. 0.]\n",
      " [0. 0. 1. 1. 0. 0.]\n",
      " [0. 0. 1. 1. 1. 0.]\n",
      " [0. 0. 1. 1. 1. 1.]]\n",
      "vect_b = \n",
      " [ 0 30  0 30 30 30]\n",
      "The eigen values of mat_a: [1. 1. 1. 1. 1. 1.]\n"
     ]
    }
   ],
   "source": [
    "mat_p = np.array([\n",
    "    [1, 0, 0, 0, 0, 0],\n",
    "    [-1, 1, 0, 0, 0, 0],\n",
    "    [0, 0, 1, 0, 0, 0],\n",
    "    [0, 0, -1, 1, 0, 0],\n",
    "    [0, 0, 0, -1, 1, 0],\n",
    "    [0, 0, 0, 0, -1, 1]\n",
    "])\n",
    "vect_b = np.array([0, d_min, 0, d_min, d_min, d_min])\n",
    "inv_mat_p = np.linalg.inv(mat_p)\n",
    "\n",
    "with np.printoptions(suppress=True):\n",
    "    print(\"mat_p = \\n\", mat_p)\n",
    "    print(\"inv_mat_p = \\n\", inv_mat_p)\n",
    "    print(\"vect_b = \\n\", vect_b)\n",
    "s, v = np.linalg.eig(mat_p)\n",
    "print(\"The eigen values of mat_a:\", s)"
   ]
  },
  {
   "cell_type": "code",
   "execution_count": 6,
   "id": "26845122-0083-44c7-9b8d-e34973c1ee6f",
   "metadata": {},
   "outputs": [
    {
     "data": {
      "text/plain": [
       "array([0., 0., 0., 0.])"
      ]
     },
     "execution_count": 6,
     "metadata": {},
     "output_type": "execute_result"
    }
   ],
   "source": [
    "np.array([1, 1, 1, 1]) * d_min - np.dot(mat_g @ inv_mat_p, vect_b)\n",
    "# ev, eb = np.linalg.eig(mat_p)\n",
    "# display(ev)\n",
    "# with np.printoptions(suppress=True):\n",
    "#     display(eb)\n",
    "# display(np.linalg.cond(mat_p, p=2))\n",
    "# display(np.invert(mat_p))"
   ]
  },
  {
   "cell_type": "code",
   "execution_count": 7,
   "id": "9427d56b-5531-4f45-a2bb-87f610826d8c",
   "metadata": {},
   "outputs": [
    {
     "data": {
      "text/plain": [
       "array([[ 2.,  1.,  0.,  0.,  0.,  0.],\n",
       "       [ 2.,  0., -2., -1.,  0.,  0.],\n",
       "       [ 2.,  2., -2., -2., -2., -1.]])"
      ]
     },
     "execution_count": 7,
     "metadata": {},
     "output_type": "execute_result"
    }
   ],
   "source": [
    "# Manually validated\n",
    "mat_a @ inv_mat_p"
   ]
  },
  {
   "cell_type": "code",
   "execution_count": 8,
   "id": "df339317-f2fe-4162-a1b4-1129079362a7",
   "metadata": {},
   "outputs": [
    {
     "data": {
      "text/plain": [
       "array([0., 1., 0., 1., 1., 1.])"
      ]
     },
     "execution_count": 8,
     "metadata": {},
     "output_type": "execute_result"
    }
   ],
   "source": [
    "lform_c @ inv_mat_p"
   ]
  },
  {
   "cell_type": "code",
   "execution_count": 9,
   "id": "7094cd4f-eddb-46dd-9799-bfee3cb2dc44",
   "metadata": {},
   "outputs": [
    {
     "data": {
      "text/plain": [
       "array([-30.,  30.,  90.])"
      ]
     },
     "execution_count": 9,
     "metadata": {},
     "output_type": "execute_result"
    }
   ],
   "source": [
    "# Manually validated\n",
    "-np.dot(mat_a @ inv_mat_p, vect_b)"
   ]
  },
  {
   "cell_type": "markdown",
   "id": "a90cc8fc-1fd6-4e7e-82b1-a3c05d55719c",
   "metadata": {},
   "source": [
    "## Solving with Simplex algorithm"
   ]
  },
  {
   "cell_type": "code",
   "execution_count": 10,
   "id": "5e8fef10-d7d5-445a-bf53-19bb2b85cb4d",
   "metadata": {},
   "outputs": [],
   "source": [
    "# result = linprog(\n",
    "#     lform_c @ inv_mat_p,\n",
    "#     A_ub=-mat_g @ inv_mat_p,\n",
    "#     b_ub=np.zeros(shape=(4,)),\n",
    "#     A_eq=mat_a @ inv_mat_p,\n",
    "#     b_eq=-np.dot(mat_a @ inv_mat_p, vect_b),\n",
    "#     bounds=None,\n",
    "#     method=\"simplex\",\n",
    "#     callback=None,\n",
    "#     options={\n",
    "#         \"maxiter\": 5000,\n",
    "#         \"disp\": True,\n",
    "#         \"presolve\": True,\n",
    "#         # \"tol\": 90,\n",
    "#         \"autoscale\": False,\n",
    "#         \"rr\": True,\n",
    "#         \"bland\": False,\n",
    "#     }\n",
    "# )\n",
    "# display(result)"
   ]
  },
  {
   "cell_type": "code",
   "execution_count": 11,
   "id": "27766adb-a419-42d3-9280-424b0091e80f",
   "metadata": {},
   "outputs": [
    {
     "data": {
      "text/plain": [
       "array([0., 0., 0., 0.])"
      ]
     },
     "execution_count": 11,
     "metadata": {},
     "output_type": "execute_result"
    }
   ],
   "source": [
    "-mat_g @ inv_mat_p @ vect_b + d_min * np.ones(shape=(4,))"
   ]
  },
  {
   "cell_type": "markdown",
   "id": "f2d9082a-1659-4b48-9b80-6dbcad2959c0",
   "metadata": {},
   "source": [
    "## Transformed problem with CVX"
   ]
  },
  {
   "cell_type": "code",
   "execution_count": 12,
   "id": "a94e8f16-29c8-4f95-a3a1-2e0bddff1652",
   "metadata": {},
   "outputs": [],
   "source": [
    "x = cp.Variable(shape=(6,), name=\"X\")\n",
    "constraints = [\n",
    "    cp.matmul(mat_a @ inv_mat_p, x) == -np.dot(mat_a @ inv_mat_p, vect_b), \n",
    "    cp.matmul(mat_g @ inv_mat_p, x) >= 0 #-mat_g @ inv_mat_p @ vect_b + d_min * np.ones(shape=(4,))\n",
    "]\n",
    "objective = cp.Minimize(cp.matmul(lform_c @ inv_mat_p, x))\n",
    "problem = cp.Problem(objective, constraints)\n",
    "solution = problem.solve()"
   ]
  },
  {
   "cell_type": "code",
   "execution_count": 13,
   "id": "ac1c0e23-ed39-4abe-bda9-103bc4fe9fd4",
   "metadata": {},
   "outputs": [
    {
     "name": "stdout",
     "output_type": "stream",
     "text": [
      "29.99999993656985\n",
      "[-3.00000000e+01  3.00000000e+01 -4.50000000e+01 -1.70470347e-08\n",
      "  1.09460941e-08 -3.98345087e-08]\n"
     ]
    }
   ],
   "source": [
    "print(solution)\n",
    "print(x.value)"
   ]
  },
  {
   "cell_type": "code",
   "execution_count": 18,
   "id": "7050d58a-30e0-4984-81a1-67e79fd9703a",
   "metadata": {},
   "outputs": [
    {
     "name": "stdout",
     "output_type": "stream",
     "text": [
      "Solution in y-coordinates = \n",
      " [-30.  30. -45. -30.  15.  90.]\n"
     ]
    }
   ],
   "source": [
    "with np.printoptions(suppress=True, precision=6):\n",
    "    print(\"Solution in y-coordinates = \\n\", inv_mat_p @ (x.value + vect_b))"
   ]
  },
  {
   "cell_type": "markdown",
   "id": "06ac7691-0f53-4a1f-b6c6-7fcf25108b2b",
   "metadata": {},
   "source": [
    "## Original problem with CVX"
   ]
  },
  {
   "cell_type": "code",
   "execution_count": 15,
   "id": "0b7335f8-0422-44a6-8adb-66ec581e940f",
   "metadata": {},
   "outputs": [],
   "source": [
    "x = cp.Variable(shape=(6,), name=\"X\")\n",
    "constraints = [cp.matmul(mat_a, x) == 0, mat_g @ x >= d_min * np.ones(shape=(4,))]\n",
    "objective = cp.Minimize(cp.matmul(lform_c, x))\n",
    "problem = cp.Problem(objective, constraints)\n",
    "solution = problem.solve()"
   ]
  },
  {
   "cell_type": "code",
   "execution_count": 19,
   "id": "0a648390-9ae0-46f1-80f7-b3de653065b9",
   "metadata": {},
   "outputs": [
    {
     "name": "stdout",
     "output_type": "stream",
     "text": [
      "Solution in y-coordinates = \n",
      " [-30.  30. -45. -15.  15.  45.]\n"
     ]
    }
   ],
   "source": [
    "with np.printoptions(suppress=True, precision=6):\n",
    "    print(\"Solution in y-coordinates = \\n\", x.value)"
   ]
  },
  {
   "cell_type": "code",
   "execution_count": null,
   "id": "9915629e-33e4-4435-b32f-2465958e7d80",
   "metadata": {},
   "outputs": [],
   "source": []
  }
 ],
 "metadata": {
  "kernelspec": {
   "display_name": "Python 3 (ipykernel)",
   "language": "python",
   "name": "python3"
  },
  "language_info": {
   "codemirror_mode": {
    "name": "ipython",
    "version": 3
   },
   "file_extension": ".py",
   "mimetype": "text/x-python",
   "name": "python",
   "nbconvert_exporter": "python",
   "pygments_lexer": "ipython3",
   "version": "3.10.2"
  }
 },
 "nbformat": 4,
 "nbformat_minor": 5
}
