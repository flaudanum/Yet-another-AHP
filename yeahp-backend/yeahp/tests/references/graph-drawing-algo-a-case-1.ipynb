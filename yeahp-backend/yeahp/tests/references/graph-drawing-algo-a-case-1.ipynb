{
 "cells": [
  {
   "cell_type": "markdown",
   "id": "d084c12e-18a4-4909-ab55-308c6cd91463",
   "metadata": {},
   "source": [
    "# Graph drawing algorithm A (3 nodes)"
   ]
  },
  {
   "cell_type": "code",
   "execution_count": 1,
   "id": "b4cbc3ce-38b0-4bea-a06f-33ae1a9c8abe",
   "metadata": {},
   "outputs": [],
   "source": [
    "import numpy as np\n",
    "import cvxpy as cp"
   ]
  },
  {
   "cell_type": "markdown",
   "id": "afbcfbcd-084a-4956-84dd-46b15f2795b5",
   "metadata": {
    "tags": []
   },
   "source": [
    "## Base matrices of the optimization problem\n",
    "These matrices are written in the real coordinate system. The vertical locations along axis _y_ are stored in vector $\\mathbf{Y}$:\n",
    "$$\n",
    "\\mathbf{Y} = \\left< y_{(2,1)} y_{(2,2)}\\right>\n",
    "$$"
   ]
  },
  {
   "cell_type": "markdown",
   "id": "dc279f28-7c29-456d-8ab3-f9fe7dca8233",
   "metadata": {},
   "source": [
    "**Cost function** $f(\\mathbf{Y})$:\n",
    "\n",
    "$$\n",
    "f(\\mathbf{Y}) = \\mathbf{c}\\cdot\\mathbf{Y}\n",
    "$$"
   ]
  },
  {
   "cell_type": "code",
   "execution_count": 2,
   "id": "32021197-caa9-4b96-87b0-57b2f0752f74",
   "metadata": {},
   "outputs": [
    {
     "name": "stdout",
     "output_type": "stream",
     "text": [
      "lform_c = \n",
      " [-1  1]\n"
     ]
    }
   ],
   "source": [
    "lform_c = np.array([-1, 1])\n",
    "print(\"lform_c = \\n\", lform_c)"
   ]
  },
  {
   "cell_type": "markdown",
   "id": "5ed13d5b-994b-4ef6-b086-b2f4a54cdeff",
   "metadata": {},
   "source": [
    "**Barycentric** relations between parent and child nodes:\n",
    "$$\n",
    "[A]\\cdot\\mathbf{Y} = 0\n",
    "$$"
   ]
  },
  {
   "cell_type": "code",
   "execution_count": 3,
   "id": "b1f5aea4-7530-4cac-ae9f-537fffb37c35",
   "metadata": {},
   "outputs": [
    {
     "name": "stdout",
     "output_type": "stream",
     "text": [
      "mat_a = \n",
      " [[1 1]]\n"
     ]
    }
   ],
   "source": [
    "mat_a = np.array([[1, 1]])\n",
    "print(\"mat_a = \\n\", mat_a)"
   ]
  },
  {
   "cell_type": "markdown",
   "id": "24fac196-a59a-4c8a-a7c7-675b1886ee97",
   "metadata": {},
   "source": [
    "**Minimal distance** relations:\n",
    "$$\n",
    "[G]\\cdot \\mathbf{Y}\\ge d_\\mathrm{min}\n",
    "$$"
   ]
  },
  {
   "cell_type": "code",
   "execution_count": 4,
   "id": "8f2e5345-36e1-4f4f-a2a4-a8e74c549e8b",
   "metadata": {},
   "outputs": [
    {
     "name": "stdout",
     "output_type": "stream",
     "text": [
      "mat_g = \n",
      " [[-1  1]]\n"
     ]
    }
   ],
   "source": [
    "mat_g = np.array([[-1,1]])\n",
    "print(\"mat_g = \\n\", mat_g)"
   ]
  },
  {
   "cell_type": "markdown",
   "id": "15e7fc4a-984d-476b-9edf-b473ca901d93",
   "metadata": {},
   "source": [
    "**Transformation** to unknown vector $\\mathbf{X}$ such that $\\mathbf{X} \\ge 0$ implies $[G]\\cdot \\mathbf{Y}\\ge d_\\mathrm{min}$.\n",
    "\n",
    "$$\n",
    "\\mathbf{X} = \\left<\\begin{matrix}\n",
    "y_{(2,1)} & y_{(2,2)}-y_{(2,1)}-d_\\mathrm{min} \\end{matrix}\\right>\n",
    "$$\n",
    "which writes:\n",
    "$$\n",
    "\\mathbf{X} = [P]\\cdot\\mathbf{Y}-\\mathbf{b}_X\n",
    "$$\n",
    "The inverse relationship being:\n",
    "$$\n",
    "\\mathbf{Y} = [P]^{-1}\\cdot\\left(\\mathbf{X}+\\mathbf{b}_X\\right)\n",
    "$$\n",
    "Remark: matrix $[P]$ is a unipotent [matrix](https://en.wikipedia.org/wiki/Unipotent) matrix."
   ]
  },
  {
   "cell_type": "code",
   "execution_count": 5,
   "id": "1839b455-1d0b-4b47-bdfa-6261d50285d4",
   "metadata": {},
   "outputs": [
    {
     "name": "stdout",
     "output_type": "stream",
     "text": [
      "mat_p = \n",
      " [[ 1  0]\n",
      " [-1  1]]\n",
      "inv_mat_p = \n",
      " [[1. 0.]\n",
      " [1. 1.]]\n",
      "vect_b_x = \n",
      " [ 0 30]\n"
     ]
    }
   ],
   "source": [
    "mat_p = np.array([\n",
    "    [1, 0],\n",
    "    [-1, 1]\n",
    "])\n",
    "d_min = 30\n",
    "vect_b_x  = np.array([0, d_min])\n",
    "inv_mat_p = np.linalg.inv(mat_p)\n",
    "print(\"mat_p = \\n\", mat_p)\n",
    "print(\"inv_mat_p = \\n\", inv_mat_p)\n",
    "print(\"vect_b_x = \\n\", vect_b_x)"
   ]
  },
  {
   "cell_type": "markdown",
   "id": "54a3fc79-e930-4737-8b36-729c8ee0c3e5",
   "metadata": {},
   "source": [
    "The following expression must be positive:\n",
    "$$\n",
    "d_\\mathrm{min}-[G]\\cdot[P]^{-1}\\mathbf{b}_X\n",
    "$$"
   ]
  },
  {
   "cell_type": "code",
   "execution_count": 6,
   "id": "aba2f735-9c05-486f-8fcf-08480b7341ad",
   "metadata": {},
   "outputs": [
    {
     "data": {
      "text/plain": [
       "array([0.])"
      ]
     },
     "execution_count": 6,
     "metadata": {},
     "output_type": "execute_result"
    }
   ],
   "source": [
    "d_min - np.dot(mat_g @ inv_mat_p, vect_b_x)"
   ]
  },
  {
   "cell_type": "code",
   "execution_count": 7,
   "id": "5a8a81ae-767a-453c-8a67-ffe7124c9d0b",
   "metadata": {},
   "outputs": [
    {
     "data": {
      "text/plain": [
       "array([ 0., 30.])"
      ]
     },
     "execution_count": 7,
     "metadata": {},
     "output_type": "execute_result"
    }
   ],
   "source": [
    "np.dot(inv_mat_p, np.array([0, 0] )) + vect_b_x"
   ]
  },
  {
   "cell_type": "code",
   "execution_count": 8,
   "id": "65882524-ace6-4c04-8c2d-a2c2fa61c086",
   "metadata": {},
   "outputs": [
    {
     "data": {
      "text/plain": [
       "array([0, 0])"
      ]
     },
     "execution_count": 8,
     "metadata": {},
     "output_type": "execute_result"
    }
   ],
   "source": [
    "mat_p @ np.array([0, d_min]) - vect_b_x"
   ]
  },
  {
   "cell_type": "markdown",
   "id": "0ed1f940-8220-4398-a475-2b2d4f740c2d",
   "metadata": {},
   "source": [
    "## Solving with Simplex algorithm"
   ]
  },
  {
   "cell_type": "code",
   "execution_count": 9,
   "id": "d300d86f-3393-4cda-8244-ddddb7275073",
   "metadata": {},
   "outputs": [],
   "source": [
    "x = cp.Variable(shape=(2,), name=\"X\")\n",
    "constraints = [\n",
    "    cp.matmul(mat_a @ inv_mat_p, x) == -np.dot(mat_a @ inv_mat_p, vect_b_x), \n",
    "    cp.matmul(mat_g @ inv_mat_p, x) >= 0 #-mat_g @ inv_mat_p @ vect_b + d_min * np.ones(shape=(4,))\n",
    "]\n",
    "objective = cp.Minimize(cp.matmul(lform_c @ inv_mat_p, x))\n",
    "problem = cp.Problem(objective, constraints)\n",
    "solution = problem.solve()"
   ]
  },
  {
   "cell_type": "code",
   "execution_count": 10,
   "id": "994c2b33-e601-491b-ad11-24d38ffb04de",
   "metadata": {},
   "outputs": [
    {
     "name": "stdout",
     "output_type": "stream",
     "text": [
      "Solution in y-coordinates = \n",
      " [-15.  15.]\n"
     ]
    }
   ],
   "source": [
    "with np.printoptions(suppress=True, precision=6):\n",
    "    print(\"Solution in y-coordinates = \\n\", inv_mat_p @ (x.value + vect_b_x))"
   ]
  },
  {
   "cell_type": "code",
   "execution_count": null,
   "id": "5a36fa49-4dd8-432c-88b5-9eb96d056f38",
   "metadata": {},
   "outputs": [],
   "source": []
  }
 ],
 "metadata": {
  "kernelspec": {
   "display_name": "Python 3 (ipykernel)",
   "language": "python",
   "name": "python3"
  },
  "language_info": {
   "codemirror_mode": {
    "name": "ipython",
    "version": 3
   },
   "file_extension": ".py",
   "mimetype": "text/x-python",
   "name": "python",
   "nbconvert_exporter": "python",
   "pygments_lexer": "ipython3",
   "version": "3.10.2"
  }
 },
 "nbformat": 4,
 "nbformat_minor": 5
}
